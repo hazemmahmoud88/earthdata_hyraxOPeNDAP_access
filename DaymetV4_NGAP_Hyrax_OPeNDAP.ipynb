{
 "cells": [
  {
   "cell_type": "markdown",
   "id": "b482542e",
   "metadata": {},
   "source": [
    "# NASA Cloud-Based OPeNDAP Access and Subsetting - Daymet Data"
   ]
  },
  {
   "cell_type": "markdown",
   "id": "50489f29",
   "metadata": {},
   "source": [
    "*Author:  ORNL DAAC*\n",
    "<br>\n",
    "*Date: March 13, 2023*\n",
    "<br>\n",
    "*Contact for [ORNL DAAC](https://daac.ornl.gov/):  uso@daac.ornl.gov*\n",
    "\n",
    "##### Keywords:  ORNL DAAC, Daymet, THREDDS, OPeNDAP, Earthdata, , `CMR API`, `pydap`, `xarray`"
   ]
  },
  {
   "cell_type": "markdown",
   "id": "99c311ef",
   "metadata": {},
   "source": [
    "## Tutorial Overview\n",
    "\n",
    "In this tutorial, we're interested in obtaining a **spatial** and **temporal subset** of gridded multidimentional (ie. netCDF) data using OPeNDAP.  We'll demonstrate how to programatically discover, access, and subset using Daymet daily data hosted from NASA's Earthdata Cloud as an example dataset. \n",
    "\n",
    "- **STEP 1: Setting Search and Subset Parameters:** Demonstrates how to use a shape file's bounding box coordinates to obtain `search` and `subsetting` parameters. \n",
    "\n",
    "- **STEP 2: Finding Data Files of Interest:**  Demonstrates how use spatial and temporal parameters to search NASA's Dataset Collections to discover Granules (files) of interest using `NASA's CMR API`. \n",
    "\n",
    "- **STEP 3: Subsetting Data:** Demonstrates how to subset from the North American Daymet dataset netCDF files using `pydap` to inspect data from the NASA Earthdata Cloud Hyrax `OPeNDAP` server.\n",
    "\n",
    "Steps we'll explore: \n",
    "- Store a shape file's (polygon) bounding box parameters to use for searching and subsetting from the North American extent of Daymet Data\n",
    "- Use the Daymet dataset **DOI** or the Daymet **shortname** and NASA's **Common Metadata Repository (CMR) API** to search for Daymet data within a spatial and temporal region of interest\n",
    "- Build a **Request URL** to create a list of files that match our search criteria\n",
    "- From Daymet data on the NASA Earthdata Cloud-based Hyrax **OPeNDAP Server** we will find, subset, and concatenate data as if it were stored locally\n",
    "- **Download subsets** of data NASA Earthdata Cloud to a local computer\n",
    "- **Clip** the subset to the polygon of interest"
   ]
  },
  {
   "cell_type": "markdown",
   "id": "4a673e36",
   "metadata": {},
   "source": [
    "#### Daymet Data: NASA Earthdata\n",
    " - [NASA Earthdata Daymet Collections](https://search.earthdata.nasa.gov/portal/ornldaac/search?fpj=Daymet!Daymet!Daymet)\n",
    "\n",
    "#### Daymet Data: ORNL DAAC \n",
    "- The [Daymet Website](https://daymet.ornl.gov) provides comprehensive information about and access methods for the Daymet datasets under the [Get Data](https://daymet.ornl.gov/getdata) tab. \n",
    "\n",
    "- Landing Page for [Daymet: Daily Surface Weather Data on a 1-km Grid for North America, Version 4 R1](https://daac.ornl.gov/cgi-bin/dsviewer.pl?ds_id=2129).  \n",
    "- Daymet V4 Daily Data dataset DOI **https://doi.org/10.3334/ORNLDAAC/2129**\n",
    "<div class=\"alert alert-block alert-info\">\n",
    "Thornton, M.M., R. Shrestha, Y. Wei, P.E. Thornton, S-C. Kao, and B.E. Wilson. 2022. Daymet: Daily Surface Weather Data on a 1-km Grid for North America, Version 4 R1. ORNL DAAC, Oak Ridge, Tennessee, USA. https://doi.org/10.3334/ORNLDAAC/2129\n",
    "</div>\n",
    "\n"
   ]
  },
  {
   "cell_type": "markdown",
   "id": "cbc9a790",
   "metadata": {},
   "source": [
    "### Daymet Overview\n",
    "<div class=\"alert alert-block alert-warning\">\n",
    "\n",
    "SKIP this section if you're familiar with Daymet:  The **[Daymet](https://daymet.ornl.gov/)** dataset provides gridded estimates of daily weather data interpolated and extrapoloated from ground-based surface weather observations.  Annual and monthly climatologies are also available.  The spatial resolution of the data is 1km x 1km and the daily data are distributed in a multidimensional, netCDF file format. Daymet data is available for continenal North America (na), with Hawaii (hi), and Puerto Rico (pr) as separate data files.\n",
    "\n",
    "The Daymet daily North American files [Daymet: Daily Surface Weather Data on a 1-km Grid for North America, Version 4 R1](https://daac.ornl.gov/cgi-bin/dsviewer.pl?ds_id=2129) are large and often a researcher needs a spatial or temporal subset of the data based on their region of interest. \n",
    "\n",
    "\n",
    "![title](images/Daymet_V4_Annual_Climatology_Fig1.png)\n",
    "\n",
    "DAYMET Temporal Availability:\n",
    "\n",
    "| Spatial Area    | Years                          \n",
    "|:---------       |:---------------------------------------:|\n",
    "| North America   | 1980 - present\n",
    "| Hawaii          | 1980 - present\n",
    "| Puerto Rico     | 1950 - present\n",
    "\n",
    "DAYMET VARIABLES:\n",
    "\n",
    "| Variable | Description (units)                           \n",
    "|:---------|:---------------------------------------:|\n",
    "| tmax     | Daily maximum 2-meter air temperature (°C)\n",
    "| tmin     | Daily minimum 2-meter air temperature (°C)\n",
    "| prcp     | Daily total precipitation (mm/day)\n",
    "| srad     | Incident shortwave radiation flux density (W/m2)\n",
    "| vp       | Water vapor pressure (Pa)\n",
    "| swe      | Snow water equivalent (kg/m2)\n",
    "| dayl     | Duration of the daylight period (seconds/day)\n",
    "\n",
    "Daymet V4 Daily Data files (or granules) are distributed in netCDF4 format, and each file has one year's worth of data. Data files are organized by variables (dayl, prcp, tmin, tmax, srad, swe, vp) and regions (each for na, pr, hi).\n",
    "\n",
    "The standard naming convention for a file is:  \n",
    "\n",
    "- daymet_v4_daily_`area`_`variable`_`year`.nc\n",
    "- daymet_v4_daily_na_tmax_2022.nc\n",
    "</div>"
   ]
  },
  {
   "cell_type": "markdown",
   "id": "8ca1257a",
   "metadata": {},
   "source": [
    "----"
   ]
  },
  {
   "cell_type": "markdown",
   "id": "28640b33",
   "metadata": {},
   "source": [
    "## Tutorial Requirements\n",
    "* Python 3.7 or higher\n",
    "* geopandas and dependencies\n",
    "* pydap\n",
    "* xarray\n",
    "* rasterio\n",
    "* shapely"
   ]
  },
  {
   "cell_type": "code",
   "execution_count": null,
   "id": "6dd5e478",
   "metadata": {},
   "outputs": [],
   "source": [
    "#Running from pyenv, Conda, activate hyrax_daymet\n",
    "from IPython.display import display, HTML\n",
    "display(HTML(\"<style>.container { width:80% !important; }</style>\"))"
   ]
  },
  {
   "cell_type": "code",
   "execution_count": 1,
   "id": "24350611",
   "metadata": {
    "scrolled": true
   },
   "outputs": [],
   "source": [
    "import geopandas as gpd\n",
    "import matplotlib.pyplot as plt\n",
    "import requests\n",
    "import pyproj\n",
    "import datetime as dt \n",
    "from rasterio.features import Affine\n",
    "from pydap.client import open_url\n",
    "from pydap.cas.urs import setup_session\n",
    "import xarray as xr\n",
    "import rioxarray\n",
    "import shapely\n",
    "import rasterio\n",
    "from shapely.geometry import mapping\n",
    "import json"
   ]
  },
  {
   "cell_type": "code",
   "execution_count": 2,
   "id": "e6d496fc",
   "metadata": {},
   "outputs": [
    {
     "name": "stdout",
     "output_type": "stream",
     "text": [
      "This Notebook was produced with the following versions\n",
      "geopanda version   :  0.10.2\n",
      "pyproj version     :  3.3.0\n",
      "rioxarray version  :  0.10.3\n",
      "xarray version     :  2022.3.0\n",
      "shapely            :  1.8.0\n",
      "rasterio           :  1.2.10\n"
     ]
    }
   ],
   "source": [
    "print(\"This Notebook was produced with the following versions\")\n",
    "print(\"geopanda version   : \", gpd.__version__)\n",
    "print(\"pyproj version     : \", pyproj.__version__)\n",
    "print(\"rioxarray version  : \", rioxarray.__version__)\n",
    "print(\"xarray version     : \", xr.__version__)\n",
    "print(\"shapely            : \", shapely.__version__)\n",
    "print(\"rasterio           : \", rasterio.__version__)\n"
   ]
  },
  {
   "cell_type": "code",
   "execution_count": 3,
   "id": "dea6a573",
   "metadata": {},
   "outputs": [
    {
     "name": "stdout",
     "output_type": "stream",
     "text": [
      "Python 3.9.12\n"
     ]
    }
   ],
   "source": [
    "!python --version"
   ]
  },
  {
   "cell_type": "markdown",
   "id": "460917a8",
   "metadata": {},
   "source": [
    "***\n",
    "***"
   ]
  },
  {
   "cell_type": "markdown",
   "id": "95a1706a",
   "metadata": {},
   "source": [
    "## STEP 1.  Setting Search and Subset Parameters: Spatial Area and Time Range of Interest"
   ]
  },
  {
   "cell_type": "markdown",
   "id": "d0fe0b9e",
   "metadata": {},
   "source": [
    "## 1.1 Spatial: Search and Subset Parameters\n",
    "You can always hard code subset parameters and if you do, you can skip to STEP 2 of this tutorial. \n",
    "\n",
    "Here we'll demonstrate how to use a polygon boundary file of California to get bounding box coordinates and how to use that for metadata discovery and spatial subsetting. Any polygon area-of-interest can be used.  \n",
    "\n",
    "We'll use Python's [GeoPandas](https://geopandas.org/index.html) to explore the polygon file\n",
    "\n",
    "* **`Geopandas`** is an open-sourced library that enables the use and manipulation of geospatial data in Python. \n",
    "* **`Geopandas`** extends the common datatype used in pandas to allow for many unique geometric operations\n",
    "* We'll use the Geopandas **`GeoDataFrame.to_crs`** to reproject the CA polygon's bounding box coordinates. \n",
    "\n",
    "We'll store bounding box coordinates in 2 reference systems\n",
    "1. **Geographic** WGS84 - for searching NASA Earthdata metadata\n",
    "2. **Lambert Conformal Conic** - Daymet's CRS - for subsetting the Daymet files using OPeNDAP protocols"
   ]
  },
  {
   "cell_type": "markdown",
   "id": "b8748c00",
   "metadata": {},
   "source": [
    "### Read and store the bounding box coordinates of the shape file."
   ]
  },
  {
   "cell_type": "code",
   "execution_count": 4,
   "id": "1cd02e0c",
   "metadata": {},
   "outputs": [
    {
     "data": {
      "image/png": "[encoded data removed]",
      "text/plain": [
       "<Figure size 432x288 with 1 Axes>"
      ]
     },
     "metadata": {
      "needs_background": "light"
     },
     "output_type": "display_data"
    }
   ],
   "source": [
    "ca_poly = gpd.read_file('bnds/California.shp')\n",
    "ax = ca_poly.plot() # plot the boundary file of California"
   ]
  },
  {
   "cell_type": "code",
   "execution_count": 5,
   "id": "ce55a039",
   "metadata": {},
   "outputs": [
    {
     "data": {
      "text/plain": [
       "<Geographic 2D CRS: EPSG:4269>\n",
       "Name: NAD83\n",
       "Axis Info [ellipsoidal]:\n",
       "- Lat[north]: Geodetic latitude (degree)\n",
       "- Lon[east]: Geodetic longitude (degree)\n",
       "Area of Use:\n",
       "- name: North America - onshore and offshore: Canada - Alberta; British Columbia; Manitoba; New Brunswick; Newfoundland and Labrador; Northwest Territories; Nova Scotia; Nunavut; Ontario; Prince Edward Island; Quebec; Saskatchewan; Yukon. Puerto Rico. United States (USA) - Alabama; Alaska; Arizona; Arkansas; California; Colorado; Connecticut; Delaware; Florida; Georgia; Hawaii; Idaho; Illinois; Indiana; Iowa; Kansas; Kentucky; Louisiana; Maine; Maryland; Massachusetts; Michigan; Minnesota; Mississippi; Missouri; Montana; Nebraska; Nevada; New Hampshire; New Jersey; New Mexico; New York; North Carolina; North Dakota; Ohio; Oklahoma; Oregon; Pennsylvania; Rhode Island; South Carolina; South Dakota; Tennessee; Texas; Utah; Vermont; Virginia; Washington; West Virginia; Wisconsin; Wyoming. US Virgin Islands. British Virgin Islands.\n",
       "- bounds: (167.65, 14.92, -47.74, 86.46)\n",
       "Datum: North American Datum 1983\n",
       "- Ellipsoid: GRS 1980\n",
       "- Prime Meridian: Greenwich"
      ]
     },
     "execution_count": 5,
     "metadata": {},
     "output_type": "execute_result"
    }
   ],
   "source": [
    "ca_poly.crs  # Lists the coordinate reference system (crs)"
   ]
  },
  {
   "cell_type": "code",
   "execution_count": 6,
   "id": "61924efa",
   "metadata": {},
   "outputs": [
    {
     "data": {
      "text/html": [
       "<div>\n",
       "<style scoped>\n",
       "    .dataframe tbody tr th:only-of-type {\n",
       "        vertical-align: middle;\n",
       "    }\n",
       "\n",
       "    .dataframe tbody tr th {\n",
       "        vertical-align: top;\n",
       "    }\n",
       "\n",
       "    .dataframe thead th {\n",
       "        text-align: right;\n",
       "    }\n",
       "</style>\n",
       "<table border=\"1\" class=\"dataframe\">\n",
       "  <thead>\n",
       "    <tr style=\"text-align: right;\">\n",
       "      <th></th>\n",
       "      <th>minx</th>\n",
       "      <th>miny</th>\n",
       "      <th>maxx</th>\n",
       "      <th>maxy</th>\n",
       "    </tr>\n",
       "  </thead>\n",
       "  <tbody>\n",
       "    <tr>\n",
       "      <th>0</th>\n",
       "      <td>-124.392638</td>\n",
       "      <td>32.535781</td>\n",
       "      <td>-114.12523</td>\n",
       "      <td>42.002191</td>\n",
       "    </tr>\n",
       "  </tbody>\n",
       "</table>\n",
       "</div>"
      ],
      "text/plain": [
       "         minx       miny       maxx       maxy\n",
       "0 -124.392638  32.535781 -114.12523  42.002191"
      ]
     },
     "execution_count": 6,
     "metadata": {},
     "output_type": "execute_result"
    }
   ],
   "source": [
    "xy_nad83 = ca_poly.bounds #store the bounds of the shape file\n",
    "xy_nad83"
   ]
  },
  {
   "cell_type": "markdown",
   "id": "16907818",
   "metadata": {},
   "source": [
    "As we see above, the boundary file is in the `EPSG:4269` coordinate system.  This differs from `EPSG:4326` only by the datum. We'll see below that differences will be very minor but the process is the same for any file not in EPSG:4326.  "
   ]
  },
  {
   "cell_type": "markdown",
   "id": "9fa78b8f",
   "metadata": {},
   "source": [
    "### Geographic Bounding Box - for searching NASA Earthdata CMR Metadata\n",
    "* we'll determine and store, as a python list, the geographic bounding box of the California shape file\n",
    "* data can be reprojected using the **`GeoDataFrame.to_crs()`** command."
   ]
  },
  {
   "cell_type": "code",
   "execution_count": 7,
   "id": "52ae71b6",
   "metadata": {},
   "outputs": [
    {
     "name": "stdout",
     "output_type": "stream",
     "text": [
      "[-124.39263575019409, 32.53578253612507, -114.1252281747415, 42.002192463378705]\n"
     ]
    }
   ],
   "source": [
    "ca_poly_4269 = ca_poly.to_crs(epsg=4326)\n",
    "xy_wgs84 = ca_poly_4269.bounds # bound of polygon in WGS84\n",
    "xy_wgs84 = ca_poly_4269.bounds.values.tolist()[0] # We'll save this as a Python list to serve as a subsetting parameter\n",
    "print(xy_wgs84)"
   ]
  },
  {
   "cell_type": "markdown",
   "id": "37c2e371",
   "metadata": {},
   "source": [
    "### Lambert Conformal Conic bounding box - Daymet's CRS - for subsetting the file using OPeNDAP protocols\n",
    "\n",
    "* Again, using **`GeoDataFrame.to_crs()`**, we'll project the polygon geopanda object (`ca_poly`) to LCC\n",
    "* Daymet is natively in a `lambert_conformal_conic (LCC)` projection.  \n",
    "- We'll present two examples to obtain the LCC paramters used to project the California bounding box to LCC."
   ]
  },
  {
   "cell_type": "markdown",
   "id": "de484afa",
   "metadata": {},
   "source": [
    "### Example 1:  Daymet's LCC Projection\n",
    "Use a Daymet file and **`rioxarray`** to obtain the LCC projection parameters"
   ]
  },
  {
   "cell_type": "code",
   "execution_count": 8,
   "id": "32b932b5",
   "metadata": {
    "scrolled": true
   },
   "outputs": [
    {
     "name": "stdout",
     "output_type": "stream",
     "text": [
      "CONVERSION[\"unnamed\",METHOD[\"Lambert Conic Conformal (2SP)\",ID[\"EPSG\",9802]],PARAMETER[\"Latitude of 1st standard parallel\",25,ANGLEUNIT[\"degree\",0.0174532925199433],ID[\"EPSG\",8823]],PARAMETER[\"Latitude of 2nd standard parallel\",60,ANGLEUNIT[\"degree\",0.0174532925199433],ID[\"EPSG\",8824]],PARAMETER[\"Latitude of false origin\",42.5,ANGLEUNIT[\"degree\",0.0174532925199433],ID[\"EPSG\",8821]],PARAMETER[\"Longitude of false origin\",-100,ANGLEUNIT[\"degree\",0.0174532925199433],ID[\"EPSG\",8822]],PARAMETER[\"Easting at false origin\",0,LENGTHUNIT[\"metre\",1],ID[\"EPSG\",8826]],PARAMETER[\"Northing at false origin\",0,LENGTHUNIT[\"metre\",1],ID[\"EPSG\",8827]]]\n"
     ]
    }
   ],
   "source": [
    "# Obtain the Daymet LCC projection parameters from a Daymet file\n",
    "daymet_x = xr.open_dataset('daymet_v4_tmax_annavg_pr_1950.nc',  decode_coords=\"all\")\n",
    "daymet_x.rio.crs\n",
    "daymet_x_proj = daymet_x.rio.crs\n",
    "\n",
    "# Project the California polygon to LCC\n",
    "ca_poly_lcc_1 = ca_poly.to_crs(daymet_x_proj) # to_crs re-projects from 4269 to LCC\n",
    "print(ca_poly_lcc_1.crs.coordinate_operation.to_wkt(pretty=False))"
   ]
  },
  {
   "cell_type": "markdown",
   "id": "5ac030ee",
   "metadata": {},
   "source": [
    "### Example 2:  Daymet's LCC Projection\n",
    "The Daymet LCC projection parameters are found presented as a `Proj.4 String` in the Daymet [User Guide](https://daac.ornl.gov/DAYMET/guides/Daymet_Daily_V4R1.html).\n",
    "\n",
    "<div class=\"alert alert-block alert-info\">\n",
    "PROJ.4: +proj=lcc +ellps=WGS84 +a=6378137 +b=6356752.314245 +lat_1=25 +lat_2=60 +lon_0=-100 +lat_0=42.5 +x_0=0 +y_0=0 +units=m +no_defs\n",
    "</dev>"
   ]
  },
  {
   "cell_type": "code",
   "execution_count": 9,
   "id": "ebf31e59",
   "metadata": {},
   "outputs": [],
   "source": [
    "# Define the Daymet projection using the Proj.4 String\n",
    "daymet_proj = \"+proj=lcc +ellps=WGS84 +a=6378137 +b=6356752.314245 +lat_1=25 +lat_2=60 +lon_0=-100 +lat_0=42.5 +x_0=0 +y_0=0 +units=m +no_defs\"\n",
    "# Project the California polygon to LCC \n",
    "ca_poly_lcc_2 = ca_poly.to_crs(daymet_proj) # to_crs re-projects from 4269 to LCC\n"
   ]
  },
  {
   "cell_type": "markdown",
   "id": "75583f5f",
   "metadata": {},
   "source": [
    "### Save the CA Bounding Box in LCC Projection"
   ]
  },
  {
   "cell_type": "code",
   "execution_count": 10,
   "id": "bc87818a",
   "metadata": {
    "scrolled": true
   },
   "outputs": [
    {
     "name": "stdout",
     "output_type": "stream",
     "text": [
      "\n",
      "Projected bounding box of the California polygon file in LCC projection\n"
     ]
    },
    {
     "data": {
      "text/html": [
       "<div>\n",
       "<style scoped>\n",
       "    .dataframe tbody tr th:only-of-type {\n",
       "        vertical-align: middle;\n",
       "    }\n",
       "\n",
       "    .dataframe tbody tr th {\n",
       "        vertical-align: top;\n",
       "    }\n",
       "\n",
       "    .dataframe thead th {\n",
       "        text-align: right;\n",
       "    }\n",
       "</style>\n",
       "<table border=\"1\" class=\"dataframe\">\n",
       "  <thead>\n",
       "    <tr style=\"text-align: right;\">\n",
       "      <th></th>\n",
       "      <th>minx</th>\n",
       "      <th>miny</th>\n",
       "      <th>maxx</th>\n",
       "      <th>maxy</th>\n",
       "    </tr>\n",
       "  </thead>\n",
       "  <tbody>\n",
       "    <tr>\n",
       "      <th>0</th>\n",
       "      <td>-1949774.11</td>\n",
       "      <td>-924691.39</td>\n",
       "      <td>-1249285.39</td>\n",
       "      <td>222385.26</td>\n",
       "    </tr>\n",
       "  </tbody>\n",
       "</table>\n",
       "</div>"
      ],
      "text/plain": [
       "         minx       miny        maxx       maxy\n",
       "0 -1949774.11 -924691.39 -1249285.39  222385.26"
      ]
     },
     "execution_count": 10,
     "metadata": {},
     "output_type": "execute_result"
    }
   ],
   "source": [
    "lccbounds = ca_poly_lcc_1.bounds # Bounds in LCC projection\n",
    "print('')\n",
    "print('Projected bounding box of the California polygon file in LCC projection')\n",
    "lccbounds.round(2)"
   ]
  },
  {
   "cell_type": "markdown",
   "id": "223fd49e",
   "metadata": {},
   "source": [
    "### Plot the California Shape Files"
   ]
  },
  {
   "cell_type": "code",
   "execution_count": 11,
   "id": "311e0720",
   "metadata": {
    "scrolled": true
   },
   "outputs": [
    {
     "data": {
      "image/png": "[encoded data removed]",
      "text/plain": [
       "<Figure size 432x288 with 2 Axes>"
      ]
     },
     "metadata": {
      "needs_background": "light"
     },
     "output_type": "display_data"
    }
   ],
   "source": [
    "# plot the CA polygon in EPSG:4269 and the Lambert Conformal Conic projection\n",
    "%matplotlib inline\n",
    "import matplotlib.pyplot as plt\n",
    "fig, (ax1, ax2) = plt.subplots(nrows=1, ncols=2, figsize=(6, 4))\n",
    "ca_poly.plot(ax=ax1, facecolor='blue');\n",
    "ax1.set_title(\"CA: EPSG=4269\");\n",
    "ca_poly_lcc_2.plot(ax=ax2, facecolor='grey');\n",
    "ax2.set_title(\"CA: Daymet LCC\");\n",
    "plt.tight_layout()"
   ]
  },
  {
   "cell_type": "markdown",
   "id": "71d3f3c1",
   "metadata": {},
   "source": [
    "## 1.2 Temporal: Search and Subset Parameters\n",
    "### Set and format a time range of interest to discover and subset data\n",
    "\n",
    "For this example, we'll access 1 year of Daymet daily data."
   ]
  },
  {
   "cell_type": "code",
   "execution_count": 12,
   "id": "5c8ad184",
   "metadata": {},
   "outputs": [
    {
     "name": "stdout",
     "output_type": "stream",
     "text": [
      "2010-01-01 00:00:00\n",
      "2011-12-31 00:00:00\n",
      "2010-01-01T00:00:00Z,2011-12-31T00:00:00Z\n"
     ]
    }
   ],
   "source": [
    "import datetime as dt \n",
    "\n",
    "start_date = dt.datetime(2010, 1, 1) # specify your own start date\n",
    "end_date = dt.datetime(2011, 12, 31)  # specify your end start date\n",
    "print(start_date,end_date,sep='\\n')\n",
    "\n",
    "dt_format = '%Y-%m-%dT%H:%M:%SZ' # format requirement for datetime search\n",
    "temporal_str = start_date.strftime(dt_format) + ',' + end_date.strftime(dt_format)\n",
    "print(temporal_str)"
   ]
  },
  {
   "cell_type": "markdown",
   "id": "342414b7",
   "metadata": {},
   "source": [
    "----\n",
    "----"
   ]
  },
  {
   "cell_type": "markdown",
   "id": "f6f69c02",
   "metadata": {},
   "source": [
    "## STEP 2. Finding Data Files of Interest : NASA's CRM API\n",
    "\n",
    "If you know the OPeNDAP URL's for your data of interest, you can skip this step.\n",
    "\n",
    "In this step, we'll leverage NASA's Common Metadata Repository (CMR) API to search NASA Earthdata for Daymet data that are within a spatial and temporal region of interest.  \n",
    "\n",
    "If you search [NASA's Earthdata Search](https://search.earthdata.nasa.gov/search) for [Daymet Daily data](https://search.earthdata.nasa.gov/search?q=daymet%20daily), you'll find about 1,000 files associated with the most recent version of that dataset.  \n",
    "\n",
    "In STEP 1, we defined a spatial and temporal area-of-interest. We'll see how we can programatically use those as a search parameters to discover which specific Daymet daily data files are within NASA Earthdata holdings that match those parameters.  \n",
    "\n",
    "**At the end of this step, we will have a list of Daymet files that are within our search parameters (spatial and temporal)**\n",
    "\n",
    "* **This methodology can be applied to any NASA Earthdata Dataset**"
   ]
  },
  {
   "cell_type": "markdown",
   "id": "6bda5405",
   "metadata": {},
   "source": [
    "A little backgroud ....\n",
    "\n",
    "- Searching [NASA's Earthdata Holdings](https://search.earthdata.nasa.gov/search) can lead to quite a few files for a user to consider. \n",
    "![title](images/NASAEarthdataCollectionSearch_narrow_LI.jpg.PNG)\n",
    "<br>\n",
    "\n",
    "Some helpful links:\n",
    "- NASA has a metadata system that catalogs all data and metadata records:  [Common Metadata Repository (CMR)](https://earthdata.nasa.gov/eosdis/science-system-description/eosdis-components/cmr) \n",
    "\n",
    "- Using the [CMR API](https://cmr.earthdata.nasa.gov/search), we can search metadata records to discovered data granules (files).\n",
    "\n",
    "\n",
    "**`Request URL's`**\n",
    "<div class=\"alert alert-block alert-info\">\n",
    "https://cmr.earthdata.nasa.gov/search/collections\n",
    "</div>\n",
    "\n",
    "<div class=\"alert alert-block alert-info\">\n",
    "https://cmr.earthdata.nasa.gov/search/granules\n",
    "</div>\n",
    "\n",
    "- The [Daymet V4R1 Daily](https://daac.ornl.gov/cgi-bin/dsviewer.pl?ds_id=2129) data DOI, **`doi.org/10.3334/ORNLDAAC/2129`**."
   ]
  },
  {
   "cell_type": "markdown",
   "id": "a382f912",
   "metadata": {},
   "source": [
    "## Finding Data Files in NASA's EarthData Cloud: or What's a ConceptID\n",
    "\n",
    "NASA Earthdata holds thousands of datasets and finding the files that fit within a spatial area of interest and time frame can be quite daunting.  \n",
    "* We'll demonstrate how to use NASA's [**CMR API**](https://cmr.earthdata.nasa.gov/search) and either the Daymet dataset `DOI` or the `shortname` to obtain the NASA EarthData's unique ID (called the **`Concept ID`**) for **Daymet Daily** data.  With this information, we can search all of NASA's Earthdata holdings for matching data files (granules) based on our spatial area and time period of interest.\n",
    "\n",
    "Search NASA Earthdata Holdings based on...\n",
    "* *`DOI`* - The Daymet daily data Digital Object Identifier\n",
    "* *`ConceptID`* - remember, this is NASA Earthdata's unique ID for this dataset\n",
    "* Area of Interest\n",
    "* Time Range of Interest\n",
    "\n",
    "## Step 2.1 Obtaining the Daymet V4 Daily data *Concept ID*\n",
    "Using Python's **`requests`** library, we will build and provide the URL `doisearch` to search **NASA's Common Metadata Repository (CMR)** to acquire the **`concept_id`** unique to the Daymet V4 Daily data in NASA's Cloud holdings.  We'll use the **concept_id** in a next step when we search NASA Cloud Holdings for our spatial and temporal area of interest."
   ]
  },
  {
   "cell_type": "markdown",
   "id": "f17f82a6",
   "metadata": {},
   "source": [
    "*  We're going to build a **CMR URL** for the Daymet V4R1 Daily Data\n",
    "* **`requests`** is a simple HTTP libray for Python.  It allows you to easily send HTTP requests\n",
    "\n",
    "<div class=\"alert alert-block alert-info\">\n",
    "https://cmr.earthdata.nasa.gov/search/collections\n",
    "</div>\n",
    "\n",
    "* Basically, we're going to programmatically build the CMR URL for the Daymet Daily data and search for and store the ConceptID\n",
    "`https://cmr.earthdata.nasa.gov/search/collections.json?doi=10.3334/ORNLDAAC/2129`\n",
    "\n",
    "\n",
    "\n"
   ]
  },
  {
   "cell_type": "code",
   "execution_count": 13,
   "id": "cdc053d2",
   "metadata": {},
   "outputs": [
    {
     "name": "stdout",
     "output_type": "stream",
     "text": [
      "https://cmr.earthdata.nasa.gov/search/collections.json?doi=10.3334/ORNLDAAC/2129\n",
      "C2532426483-ORNL_CLOUD\n"
     ]
    }
   ],
   "source": [
    "# CMR API base url\n",
    "cmrurl='https://cmr.earthdata.nasa.gov/search/' # define the base url of NASA's CMR API as the variable `cmrurl`\n",
    "doi = '10.3334/ORNLDAAC/2129'                   # Daymet V4R1 DOI - define the DOI as the variable `daymet_doi`\n",
    "doisearch = cmrurl + 'collections.json?doi=' + doi\n",
    "print(doisearch)\n",
    "\n",
    "import requests\n",
    "concept_id = requests.get(doisearch).json()['feed']['entry'][0]['id']\n",
    "print(concept_id)"
   ]
  },
  {
   "cell_type": "markdown",
   "id": "2086317c",
   "metadata": {},
   "source": [
    "**`C2532426483-ORNL_CLOUD`** is the unique NASA-given concept ID for the Daymet daily dataset. We can use this to search relevant granules and their names. "
   ]
  },
  {
   "cell_type": "markdown",
   "id": "5bfd98d0",
   "metadata": {},
   "source": [
    "- Another way to get to the Daymet ConceptID from CMR's Collection's URL `https://cmr.earthdata.nasa.gov/search/collections.json` and knowing the shortname `Daymet_Daily_V4R1_2129`"
   ]
  },
  {
   "cell_type": "code",
   "execution_count": 14,
   "id": "4824d4c3",
   "metadata": {},
   "outputs": [
    {
     "name": "stdout",
     "output_type": "stream",
     "text": [
      "<Response [200]>\n",
      "['C2532426483-ORNL_CLOUD']\n",
      "C2532426483-ORNL_CLOUD\n"
     ]
    }
   ],
   "source": [
    "params = {\n",
    "    'short_name': 'Daymet_Daily_V4R1_2129',\n",
    "} # parameter dictionary with known CMR short_name\n",
    "\n",
    "cmr_collections_url = 'https://cmr.earthdata.nasa.gov/search/collections.json'\n",
    "cmr_response = requests.get(cmr_collections_url, params=params)\n",
    "print(cmr_response)\n",
    "cmr_results = json.loads(cmr_response.content) # Get json response from CMR collection metadata\n",
    "#print(cmr_results)\n",
    "collectionlist = [el['id'] for el in cmr_results['feed']['entry']]\n",
    "print(collectionlist)\n",
    "concept_id = collectionlist[0]\n",
    "print(concept_id)"
   ]
  },
  {
   "cell_type": "markdown",
   "id": "fe9d6cab",
   "metadata": {},
   "source": [
    "## Step 2.2 Searching for Daymet Files \n",
    "Daymet daily data files (or granules) are in netCDF4 format, and each file has one year's worth of data. Data files are organized by variables (each for dayl, prcp, tmin, tmax, srad, swe, vp) and regions (each for us, pr, hi).  Daymet filenames can be used to identify the files from continental North America (`*_na_*.nc`). The files from Puerto Rico and Hawaii are named as (`*_pr_*.nc`) and (`*_hi_*.nc`) respectively.\n",
    "\n",
    "<div class=\"alert alert-block alert-info\">\n",
    "https://cmr.earthdata.nasa.gov/search/granules\n",
    "</div>\n",
    "\n",
    "We will first search all the granules for our area (i.e., California) and time period of interest (2010, 2011).  For this tutorial, we set up the search parameters and download maximum temperature data (`tmax`)."
   ]
  },
  {
   "cell_type": "code",
   "execution_count": 15,
   "id": "50d50640",
   "metadata": {},
   "outputs": [
    {
     "name": "stdout",
     "output_type": "stream",
     "text": [
      "Variables we have defined to pass to the CMR API\n",
      "-----------------------------------------------\n",
      "time range :      2010-01-01T00:00:00Z,2011-12-31T00:00:00Z\n",
      "Daymet variable : tmax\n",
      "bounding box :    [-124.39263575019409, 32.53578253612507, -114.1252281747415, 42.002192463378705]\n",
      "concept ID :      C2532426483-ORNL_CLOUD\n",
      "cmr url :         https://cmr.earthdata.nasa.gov/search/\n"
     ]
    }
   ],
   "source": [
    "#var = 'prcp' # select your own variable\n",
    "var = 'tmax' # select your own variable\n",
    "\n",
    "print('Variables we have defined to pass to the CMR API')\n",
    "print('-----------------------------------------------')\n",
    "print('time range :     ', temporal_str)\n",
    "print('Daymet variable :', var)\n",
    "print('bounding box :   ', xy_wgs84)\n",
    "print('concept ID :     ', concept_id)\n",
    "print('cmr url :        ', cmrurl)"
   ]
  },
  {
   "cell_type": "markdown",
   "id": "180f470b",
   "metadata": {},
   "source": [
    "### Here, we're building the CMR URL for the files (granules) that match our parameters of interest."
   ]
  },
  {
   "cell_type": "code",
   "execution_count": 16,
   "id": "44f2206f",
   "metadata": {},
   "outputs": [
    {
     "name": "stdout",
     "output_type": "stream",
     "text": [
      "https://cmr.earthdata.nasa.gov/search/granules.json?collection_concept_id=C2532426483-ORNL_CLOUD&page_size=1000&temporal=2010-01-01T00:00:00Z,2011-12-31T00:00:00Z&bounding_box[]=-124.39263575019409,32.53578253612507,-114.1252281747415,42.002192463378705\n"
     ]
    }
   ],
   "source": [
    "granulesearch = cmrurl + 'granules.json?collection_concept_id=' + concept_id + \\\n",
    "                '&page_size=1000' + '&temporal=' + temporal_str + \\\n",
    "                '&bounding_box[]=' + ','.join(map(str, xy_wgs84))\n",
    "print(granulesearch)                "
   ]
  },
  {
   "cell_type": "markdown",
   "id": "0a02f914",
   "metadata": {},
   "source": [
    "### Searching NASA's Earthdata holdings and getting a list of files that match our parameters\n",
    "Now, we'll get a list of files using Python's **`requests`** library. We can provide the URL created above, `granulesearch`, created above to search **NASA's Earthdata Metadata** holdings for Daymet data that fit our spatial, temporal, and variable request."
   ]
  },
  {
   "cell_type": "code",
   "execution_count": 17,
   "id": "cb30dcca",
   "metadata": {},
   "outputs": [
    {
     "name": "stdout",
     "output_type": "stream",
     "text": [
      "Daymet_Daily_V4R1.daymet_v4_daily_na_tmax_2010.nc\n",
      "Daymet_Daily_V4R1.daymet_v4_daily_na_tmax_2011.nc\n"
     ]
    }
   ],
   "source": [
    "response = requests.get(granulesearch)\n",
    "granules = response.json()['feed']['entry']  \n",
    "granule_names = []\n",
    "for g in granules:\n",
    "    granule_name = g['title']\n",
    "    if var in granule_name:\n",
    "        granule_names.append(granule_name)\n",
    "        print(granule_name)"
   ]
  },
  {
   "cell_type": "markdown",
   "id": "6599ba19",
   "metadata": {},
   "source": [
    "The array `granule_names` contains the names of all the granules (files) that match our search parameters.\n",
    "\n",
    "**Note:** A typical Daymet V4 daily file has the name **daymet_v4_daily_`area`_`var`_`year`.nc**.  The beginning of the filename (**\"Daymet_Daily_V4R1.\"**) is specific to the cloud-based naming convention and because we are searching CMR, the cloud-based files will be discovered.  "
   ]
  },
  {
   "cell_type": "markdown",
   "id": "9f08124e",
   "metadata": {},
   "source": [
    "## STEP 3. Subsetting data from NASA Earthdata Cloud\n",
    "\n",
    "Using the granule list we programmatically obtained above, we'll subset the North American files to our area of interest using the bounding box from the California polygon."
   ]
  },
  {
   "cell_type": "markdown",
   "id": "9f31d08e",
   "metadata": {},
   "source": [
    "Daymet data is available through NASA's EarthData Cloud *`Hyrax Data Server`*.\n",
    "\n",
    "For example ...\n",
    "\n",
    "[Daymet V4R1 Daily Data in the NASA Earthdata Cloud Hyrax Data Server](https://opendap.earthdata.nasa.gov/collections/C2532426483-ORNL_CLOUD/granules/Daymet_Daily_V4R1.daymet_v4_daily_na_tmax_2010.nc.dmr.html)"
   ]
  },
  {
   "cell_type": "markdown",
   "id": "95ea4c73",
   "metadata": {},
   "source": [
    "### **`OPeNDAP`** allows users to use data files that are stored on remote computers with their favorite analysis and visualization client software.\n",
    "\n",
    "NASA Earthdata has great informaion on OPeNDAP: [What is OPeNDAP](https://earthdata.nasa.gov/collaborate/open-data-services-and-software/api/opendap)\n",
    "\n",
    "###  We'll use Pythons **`pydap`** library\n",
    "\n",
    "* **[pydap](https://www.pydap.org/en/latest/client.html)** also **[pydap](https://github.com/pydap/pydap)** can be used to inspect data from any scientific dataset available on the internet from OPeNDAP servers. This allows inspection and manipulation of scientific data as if it were stored locally.  Data can be downloaded on-the-fly as needed.\n",
    "\n",
    "###  We'll use Python's **`Xarray`** Library to \n",
    "* open the data files we are searching for, \n",
    "* subset the North American file based on the Lambert Conformal Conic **`lccbounds`** bounding box we defined earlier, \n",
    "* concatenate the time range of files into one file, and \n",
    "* save the concatened file to a netCDF file.\n",
    "\n",
    "Pydap\n",
    "* **open_url**\n",
    "\n",
    "Xarray\n",
    "* **[open_dataset](http://xarray.pydata.org/en/stable/generated/xarray.open_dataset.html)** \n",
    "* **slice**\n",
    "* **concat**\n",
    "* **to_netcdf**\n",
    "\n",
    "We will subset and download Daymet V4 Daily Data based on\n",
    "- **`granual_names`** array we saved above \n",
    "- our polygonal region of interest (LCC bounding box)\n",
    "- our time range of interest\n",
    "- Daymet variable\n",
    "\n",
    "###  A NASA Earthdata Login is required\n",
    "Get an account here https://urs.earthdata.nasa.gov/\n",
    "\n",
    "- We'll use the Central Authentication Service (CAS) as a single sign-on protocol for the web.\n",
    "- NASA Earthdata Authenticaion is done through `username` and `login`"
   ]
  },
  {
   "cell_type": "code",
   "execution_count": 19,
   "id": "57c5f29e",
   "metadata": {
    "scrolled": false
   },
   "outputs": [
    {
     "name": "stdout",
     "output_type": "stream",
     "text": [
      "granule_name ----> Daymet_Daily_V4R1.daymet_v4_daily_na_tmax_2010.nc\n",
      "https://opendap.earthdata.nasa.gov/collections/C2532426483-ORNL_CLOUD/granules/Daymet_Daily_V4R1.daymet_v4_daily_na_tmax_2010.nc\n",
      "hyrax_ds -----> <DatasetType with children 'y', 'lon', 'lambert_conformal_conic', 'time', 'yearday', 'tmax', 'lat', 'time_bnds', 'x'>\n"
     ]
    },
    {
     "name": "stderr",
     "output_type": "stream",
     "text": [
      "C:\\Programs\\Anaconda\\envs\\hyrax_daymet\\lib\\site-packages\\pydap\\handlers\\dap.py:397: RuntimeWarning: overflow encountered in int_scalars\n",
      "  count = response_dtype.itemsize * n\n",
      "C:\\Programs\\Anaconda\\envs\\hyrax_daymet\\lib\\site-packages\\pydap\\handlers\\dap.py:397: RuntimeWarning: overflow encountered in int_scalars\n",
      "  count = response_dtype.itemsize * n\n"
     ]
    },
    {
     "name": "stdout",
     "output_type": "stream",
     "text": [
      "<xarray.Dataset>\n",
      "Dimensions:                  (y: 8075, x: 7814, time: 365, nv: 2)\n",
      "Coordinates:\n",
      "  * y                        (y) float32 4.984e+06 4.983e+06 ... -3.09e+06\n",
      "    lon                      (y, x) float32 ...\n",
      "    lambert_conformal_conic  int16 ...\n",
      "  * time                     (time) datetime64[ns] 2010-01-01T12:00:00 ... 20...\n",
      "    lat                      (y, x) float32 ...\n",
      "    time_bnds                (time, nv) datetime64[ns] ...\n",
      "  * x                        (x) float32 -4.56e+06 -4.559e+06 ... 3.253e+06\n",
      "Dimensions without coordinates: nv\n",
      "Data variables:\n",
      "    yearday                  (time) int16 ...\n",
      "    tmax                     (time, y, x) float32 ...\n",
      "Attributes:\n",
      "    build_dmrpp_metadata.build_dmrpp:    3.20.10-462\n",
      "    build_dmrpp_metadata.bes:            3.20.10-462\n",
      "    build_dmrpp_metadata.libdap:         libdap-3.20.9-84\n",
      "    build_dmrpp_metadata.configuration:  \\n# TheBESKeys::get_as_config()\\nAll...\n",
      "    build_dmrpp_metadata.invocation:     build_dmrpp -c /tmp/bes_conf_NSyi -f...\n",
      "    start_year:                          2010\n",
      "    source:                              Daymet Software Version 4.0\n",
      "    Version_software:                    Daymet Software Version 4.0\n",
      "    Version_data:                        Daymet Data Version 4.0\n",
      "    Conventions:                         CF-1.6\n",
      "    citation:                            Please see http://daymet.ornl.gov/ f...\n",
      "    references:                          Please see http://daymet.ornl.gov/ f...\n",
      "tmax_h ====\n",
      "<xarray.DataArray 'tmax' (time: 365, y: 47, x: 83)>\n",
      "[1423865 values with dtype=float32]\n",
      "Coordinates:\n",
      "  * y                        (y) float32 -5.66e+05 -5.67e+05 ... -6.12e+05\n",
      "    lon                      (y, x) float32 ...\n",
      "    lambert_conformal_conic  int16 ...\n",
      "  * time                     (time) datetime64[ns] 2010-01-01T12:00:00 ... 20...\n",
      "    lat                      (y, x) float32 ...\n",
      "  * x                        (x) float32 1.388e+06 1.389e+06 ... 1.47e+06\n",
      "Attributes:\n",
      "    long_name:     daily maximum temperature\n",
      "    units:         degrees C\n",
      "    cell_methods:  area: mean time: maximum\n",
      "granule_name ----> Daymet_Daily_V4R1.daymet_v4_daily_na_tmax_2011.nc\n",
      "https://opendap.earthdata.nasa.gov/collections/C2532426483-ORNL_CLOUD/granules/Daymet_Daily_V4R1.daymet_v4_daily_na_tmax_2011.nc\n",
      "hyrax_ds -----> <DatasetType with children 'y', 'lon', 'lambert_conformal_conic', 'time', 'yearday', 'tmax', 'lat', 'time_bnds', 'x'>\n"
     ]
    },
    {
     "name": "stderr",
     "output_type": "stream",
     "text": [
      "C:\\Programs\\Anaconda\\envs\\hyrax_daymet\\lib\\site-packages\\pydap\\handlers\\dap.py:397: RuntimeWarning: overflow encountered in int_scalars\n",
      "  count = response_dtype.itemsize * n\n",
      "C:\\Programs\\Anaconda\\envs\\hyrax_daymet\\lib\\site-packages\\pydap\\handlers\\dap.py:397: RuntimeWarning: overflow encountered in int_scalars\n",
      "  count = response_dtype.itemsize * n\n"
     ]
    },
    {
     "name": "stdout",
     "output_type": "stream",
     "text": [
      "<xarray.Dataset>\n",
      "Dimensions:                  (y: 8075, x: 7814, time: 365, nv: 2)\n",
      "Coordinates:\n",
      "  * y                        (y) float32 4.984e+06 4.983e+06 ... -3.09e+06\n",
      "    lon                      (y, x) float32 ...\n",
      "    lambert_conformal_conic  int16 ...\n",
      "  * time                     (time) datetime64[ns] 2011-01-01T12:00:00 ... 20...\n",
      "    lat                      (y, x) float32 ...\n",
      "    time_bnds                (time, nv) datetime64[ns] ...\n",
      "  * x                        (x) float32 -4.56e+06 -4.559e+06 ... 3.253e+06\n",
      "Dimensions without coordinates: nv\n",
      "Data variables:\n",
      "    yearday                  (time) int16 ...\n",
      "    tmax                     (time, y, x) float32 ...\n",
      "Attributes:\n",
      "    build_dmrpp_metadata.build_dmrpp:    3.20.10-462\n",
      "    build_dmrpp_metadata.bes:            3.20.10-462\n",
      "    build_dmrpp_metadata.libdap:         libdap-3.20.9-84\n",
      "    build_dmrpp_metadata.configuration:  \\n# TheBESKeys::get_as_config()\\nAll...\n",
      "    build_dmrpp_metadata.invocation:     build_dmrpp -c /tmp/bes_conf_BPjs -f...\n",
      "    start_year:                          2011\n",
      "    source:                              Daymet Software Version 4.0\n",
      "    Version_software:                    Daymet Software Version 4.0\n",
      "    Version_data:                        Daymet Data Version 4.0\n",
      "    Conventions:                         CF-1.6\n",
      "    citation:                            Please see http://daymet.ornl.gov/ f...\n",
      "    references:                          Please see http://daymet.ornl.gov/ f...\n"
     ]
    },
    {
     "name": "stderr",
     "output_type": "stream",
     "text": [
      "C:\\Programs\\Anaconda\\envs\\hyrax_daymet\\lib\\site-packages\\pydap\\handlers\\dap.py:397: RuntimeWarning: overflow encountered in int_scalars\n",
      "  count = response_dtype.itemsize * n\n",
      "C:\\Programs\\Anaconda\\envs\\hyrax_daymet\\lib\\site-packages\\pydap\\handlers\\dap.py:397: RuntimeWarning: overflow encountered in int_scalars\n",
      "  count = response_dtype.itemsize * n\n"
     ]
    },
    {
     "ename": "ValueError",
     "evalue": "buffer size must be a multiple of element size",
     "output_type": "error",
     "traceback": [
      "\u001b[1;31m---------------------------------------------------------------------------\u001b[0m",
      "\u001b[1;31mValueError\u001b[0m                                Traceback (most recent call last)",
      "Input \u001b[1;32mIn [19]\u001b[0m, in \u001b[0;36m<cell line: 18>\u001b[1;34m()\u001b[0m\n\u001b[0;32m     37\u001b[0m         \u001b[38;5;28mprint\u001b[39m(tmax_h)\n\u001b[0;32m     38\u001b[0m         \u001b[38;5;66;03m#tmax_h.to_netcdf('test.nc')\u001b[39;00m\n\u001b[0;32m     39\u001b[0m     \u001b[38;5;28;01melse\u001b[39;00m:\n\u001b[0;32m     40\u001b[0m         \u001b[38;5;66;03m#print('elsey')\u001b[39;00m\n\u001b[1;32m---> 41\u001b[0m         tmax_h \u001b[38;5;241m=\u001b[39m \u001b[43mxr\u001b[49m\u001b[38;5;241;43m.\u001b[39;49m\u001b[43mconcat\u001b[49m\u001b[43m(\u001b[49m\u001b[43m[\u001b[49m\u001b[43mtmax_h\u001b[49m\u001b[43m,\u001b[49m\u001b[43m \u001b[49m\u001b[43mtmax_sel\u001b[49m\u001b[43m]\u001b[49m\u001b[43m,\u001b[49m\u001b[43m \u001b[49m\u001b[43mdim\u001b[49m\u001b[38;5;241;43m=\u001b[39;49m\u001b[38;5;124;43m\"\u001b[39;49m\u001b[38;5;124;43mtime\u001b[39;49m\u001b[38;5;124;43m\"\u001b[39;49m\u001b[43m)\u001b[49m\n\u001b[0;32m     43\u001b[0m     cnt \u001b[38;5;241m+\u001b[39m\u001b[38;5;241m=\u001b[39m \u001b[38;5;241m1\u001b[39m\n\u001b[0;32m     45\u001b[0m \u001b[38;5;28mprint\u001b[39m(\u001b[38;5;124m'\u001b[39m\u001b[38;5;124mconcat tmax_h ----->\u001b[39m\u001b[38;5;124m'\u001b[39m, tmax_h)    \n",
      "File \u001b[1;32mC:\\Programs\\Anaconda\\envs\\hyrax_daymet\\lib\\site-packages\\xarray\\core\\concat.py:238\u001b[0m, in \u001b[0;36mconcat\u001b[1;34m(objs, dim, data_vars, coords, compat, positions, fill_value, join, combine_attrs)\u001b[0m\n\u001b[0;32m    233\u001b[0m \u001b[38;5;28;01melse\u001b[39;00m:\n\u001b[0;32m    234\u001b[0m     \u001b[38;5;28;01mraise\u001b[39;00m \u001b[38;5;167;01mTypeError\u001b[39;00m(\n\u001b[0;32m    235\u001b[0m         \u001b[38;5;124m\"\u001b[39m\u001b[38;5;124mcan only concatenate xarray Dataset and DataArray \u001b[39m\u001b[38;5;124m\"\u001b[39m\n\u001b[0;32m    236\u001b[0m         \u001b[38;5;124mf\u001b[39m\u001b[38;5;124m\"\u001b[39m\u001b[38;5;124mobjects, got \u001b[39m\u001b[38;5;132;01m{\u001b[39;00m\u001b[38;5;28mtype\u001b[39m(first_obj)\u001b[38;5;132;01m}\u001b[39;00m\u001b[38;5;124m\"\u001b[39m\n\u001b[0;32m    237\u001b[0m     )\n\u001b[1;32m--> 238\u001b[0m \u001b[38;5;28;01mreturn\u001b[39;00m \u001b[43mf\u001b[49m\u001b[43m(\u001b[49m\n\u001b[0;32m    239\u001b[0m \u001b[43m    \u001b[49m\u001b[43mobjs\u001b[49m\u001b[43m,\u001b[49m\u001b[43m \u001b[49m\u001b[43mdim\u001b[49m\u001b[43m,\u001b[49m\u001b[43m \u001b[49m\u001b[43mdata_vars\u001b[49m\u001b[43m,\u001b[49m\u001b[43m \u001b[49m\u001b[43mcoords\u001b[49m\u001b[43m,\u001b[49m\u001b[43m \u001b[49m\u001b[43mcompat\u001b[49m\u001b[43m,\u001b[49m\u001b[43m \u001b[49m\u001b[43mpositions\u001b[49m\u001b[43m,\u001b[49m\u001b[43m \u001b[49m\u001b[43mfill_value\u001b[49m\u001b[43m,\u001b[49m\u001b[43m \u001b[49m\u001b[43mjoin\u001b[49m\u001b[43m,\u001b[49m\u001b[43m \u001b[49m\u001b[43mcombine_attrs\u001b[49m\n\u001b[0;32m    240\u001b[0m \u001b[43m\u001b[49m\u001b[43m)\u001b[49m\n",
      "File \u001b[1;32mC:\\Programs\\Anaconda\\envs\\hyrax_daymet\\lib\\site-packages\\xarray\\core\\concat.py:578\u001b[0m, in \u001b[0;36m_dataarray_concat\u001b[1;34m(arrays, dim, data_vars, coords, compat, positions, fill_value, join, combine_attrs)\u001b[0m\n\u001b[0;32m    575\u001b[0m             arr \u001b[38;5;241m=\u001b[39m arr\u001b[38;5;241m.\u001b[39mrename(name)\n\u001b[0;32m    576\u001b[0m     datasets\u001b[38;5;241m.\u001b[39mappend(arr\u001b[38;5;241m.\u001b[39m_to_temp_dataset())\n\u001b[1;32m--> 578\u001b[0m ds \u001b[38;5;241m=\u001b[39m \u001b[43m_dataset_concat\u001b[49m\u001b[43m(\u001b[49m\n\u001b[0;32m    579\u001b[0m \u001b[43m    \u001b[49m\u001b[43mdatasets\u001b[49m\u001b[43m,\u001b[49m\n\u001b[0;32m    580\u001b[0m \u001b[43m    \u001b[49m\u001b[43mdim\u001b[49m\u001b[43m,\u001b[49m\n\u001b[0;32m    581\u001b[0m \u001b[43m    \u001b[49m\u001b[43mdata_vars\u001b[49m\u001b[43m,\u001b[49m\n\u001b[0;32m    582\u001b[0m \u001b[43m    \u001b[49m\u001b[43mcoords\u001b[49m\u001b[43m,\u001b[49m\n\u001b[0;32m    583\u001b[0m \u001b[43m    \u001b[49m\u001b[43mcompat\u001b[49m\u001b[43m,\u001b[49m\n\u001b[0;32m    584\u001b[0m \u001b[43m    \u001b[49m\u001b[43mpositions\u001b[49m\u001b[43m,\u001b[49m\n\u001b[0;32m    585\u001b[0m \u001b[43m    \u001b[49m\u001b[43mfill_value\u001b[49m\u001b[38;5;241;43m=\u001b[39;49m\u001b[43mfill_value\u001b[49m\u001b[43m,\u001b[49m\n\u001b[0;32m    586\u001b[0m \u001b[43m    \u001b[49m\u001b[43mjoin\u001b[49m\u001b[38;5;241;43m=\u001b[39;49m\u001b[43mjoin\u001b[49m\u001b[43m,\u001b[49m\n\u001b[0;32m    587\u001b[0m \u001b[43m    \u001b[49m\u001b[43mcombine_attrs\u001b[49m\u001b[38;5;241;43m=\u001b[39;49m\u001b[43mcombine_attrs\u001b[49m\u001b[43m,\u001b[49m\n\u001b[0;32m    588\u001b[0m \u001b[43m\u001b[49m\u001b[43m)\u001b[49m\n\u001b[0;32m    590\u001b[0m merged_attrs \u001b[38;5;241m=\u001b[39m merge_attrs([da\u001b[38;5;241m.\u001b[39mattrs \u001b[38;5;28;01mfor\u001b[39;00m da \u001b[38;5;129;01min\u001b[39;00m arrays], combine_attrs)\n\u001b[0;32m    592\u001b[0m result \u001b[38;5;241m=\u001b[39m arrays[\u001b[38;5;241m0\u001b[39m]\u001b[38;5;241m.\u001b[39m_from_temp_dataset(ds, name)\n",
      "File \u001b[1;32mC:\\Programs\\Anaconda\\envs\\hyrax_daymet\\lib\\site-packages\\xarray\\core\\concat.py:517\u001b[0m, in \u001b[0;36m_dataset_concat\u001b[1;34m(datasets, dim, data_vars, coords, compat, positions, fill_value, join, combine_attrs)\u001b[0m\n\u001b[0;32m    515\u001b[0m \u001b[38;5;28;01mexcept\u001b[39;00m \u001b[38;5;167;01mKeyError\u001b[39;00m:\n\u001b[0;32m    516\u001b[0m     \u001b[38;5;28;01mraise\u001b[39;00m \u001b[38;5;167;01mValueError\u001b[39;00m(\u001b[38;5;124mf\u001b[39m\u001b[38;5;124m\"\u001b[39m\u001b[38;5;132;01m{\u001b[39;00mk\u001b[38;5;132;01m!r}\u001b[39;00m\u001b[38;5;124m is not present in all datasets.\u001b[39m\u001b[38;5;124m\"\u001b[39m)\n\u001b[1;32m--> 517\u001b[0m combined \u001b[38;5;241m=\u001b[39m \u001b[43mconcat_vars\u001b[49m\u001b[43m(\u001b[49m\u001b[38;5;28;43mvars\u001b[39;49m\u001b[43m,\u001b[49m\u001b[43m \u001b[49m\u001b[43mdim\u001b[49m\u001b[43m,\u001b[49m\u001b[43m \u001b[49m\u001b[43mpositions\u001b[49m\u001b[43m,\u001b[49m\u001b[43m \u001b[49m\u001b[43mcombine_attrs\u001b[49m\u001b[38;5;241;43m=\u001b[39;49m\u001b[43mcombine_attrs\u001b[49m\u001b[43m)\u001b[49m\n\u001b[0;32m    518\u001b[0m \u001b[38;5;28;01massert\u001b[39;00m \u001b[38;5;28misinstance\u001b[39m(combined, Variable)\n\u001b[0;32m    519\u001b[0m result_vars[k] \u001b[38;5;241m=\u001b[39m combined\n",
      "File \u001b[1;32mC:\\Programs\\Anaconda\\envs\\hyrax_daymet\\lib\\site-packages\\xarray\\core\\variable.py:2999\u001b[0m, in \u001b[0;36mconcat\u001b[1;34m(variables, dim, positions, shortcut, combine_attrs)\u001b[0m\n\u001b[0;32m   2997\u001b[0m     \u001b[38;5;28;01mreturn\u001b[39;00m IndexVariable\u001b[38;5;241m.\u001b[39mconcat(variables, dim, positions, shortcut, combine_attrs)\n\u001b[0;32m   2998\u001b[0m \u001b[38;5;28;01melse\u001b[39;00m:\n\u001b[1;32m-> 2999\u001b[0m     \u001b[38;5;28;01mreturn\u001b[39;00m \u001b[43mVariable\u001b[49m\u001b[38;5;241;43m.\u001b[39;49m\u001b[43mconcat\u001b[49m\u001b[43m(\u001b[49m\u001b[43mvariables\u001b[49m\u001b[43m,\u001b[49m\u001b[43m \u001b[49m\u001b[43mdim\u001b[49m\u001b[43m,\u001b[49m\u001b[43m \u001b[49m\u001b[43mpositions\u001b[49m\u001b[43m,\u001b[49m\u001b[43m \u001b[49m\u001b[43mshortcut\u001b[49m\u001b[43m,\u001b[49m\u001b[43m \u001b[49m\u001b[43mcombine_attrs\u001b[49m\u001b[43m)\u001b[49m\n",
      "File \u001b[1;32mC:\\Programs\\Anaconda\\envs\\hyrax_daymet\\lib\\site-packages\\xarray\\core\\variable.py:1897\u001b[0m, in \u001b[0;36mVariable.concat\u001b[1;34m(cls, variables, dim, positions, shortcut, combine_attrs)\u001b[0m\n\u001b[0;32m   1894\u001b[0m variables \u001b[38;5;241m=\u001b[39m \u001b[38;5;28mlist\u001b[39m(variables)\n\u001b[0;32m   1895\u001b[0m first_var \u001b[38;5;241m=\u001b[39m variables[\u001b[38;5;241m0\u001b[39m]\n\u001b[1;32m-> 1897\u001b[0m arrays \u001b[38;5;241m=\u001b[39m [v\u001b[38;5;241m.\u001b[39mdata \u001b[38;5;28;01mfor\u001b[39;00m v \u001b[38;5;129;01min\u001b[39;00m variables]\n\u001b[0;32m   1899\u001b[0m \u001b[38;5;28;01mif\u001b[39;00m dim \u001b[38;5;129;01min\u001b[39;00m first_var\u001b[38;5;241m.\u001b[39mdims:\n\u001b[0;32m   1900\u001b[0m     axis \u001b[38;5;241m=\u001b[39m first_var\u001b[38;5;241m.\u001b[39mget_axis_num(dim)\n",
      "File \u001b[1;32mC:\\Programs\\Anaconda\\envs\\hyrax_daymet\\lib\\site-packages\\xarray\\core\\variable.py:1897\u001b[0m, in \u001b[0;36m<listcomp>\u001b[1;34m(.0)\u001b[0m\n\u001b[0;32m   1894\u001b[0m variables \u001b[38;5;241m=\u001b[39m \u001b[38;5;28mlist\u001b[39m(variables)\n\u001b[0;32m   1895\u001b[0m first_var \u001b[38;5;241m=\u001b[39m variables[\u001b[38;5;241m0\u001b[39m]\n\u001b[1;32m-> 1897\u001b[0m arrays \u001b[38;5;241m=\u001b[39m [\u001b[43mv\u001b[49m\u001b[38;5;241;43m.\u001b[39;49m\u001b[43mdata\u001b[49m \u001b[38;5;28;01mfor\u001b[39;00m v \u001b[38;5;129;01min\u001b[39;00m variables]\n\u001b[0;32m   1899\u001b[0m \u001b[38;5;28;01mif\u001b[39;00m dim \u001b[38;5;129;01min\u001b[39;00m first_var\u001b[38;5;241m.\u001b[39mdims:\n\u001b[0;32m   1900\u001b[0m     axis \u001b[38;5;241m=\u001b[39m first_var\u001b[38;5;241m.\u001b[39mget_axis_num(dim)\n",
      "File \u001b[1;32mC:\\Programs\\Anaconda\\envs\\hyrax_daymet\\lib\\site-packages\\xarray\\core\\variable.py:339\u001b[0m, in \u001b[0;36mVariable.data\u001b[1;34m(self)\u001b[0m\n\u001b[0;32m    337\u001b[0m     \u001b[38;5;28;01mreturn\u001b[39;00m \u001b[38;5;28mself\u001b[39m\u001b[38;5;241m.\u001b[39m_data\n\u001b[0;32m    338\u001b[0m \u001b[38;5;28;01melse\u001b[39;00m:\n\u001b[1;32m--> 339\u001b[0m     \u001b[38;5;28;01mreturn\u001b[39;00m \u001b[38;5;28;43mself\u001b[39;49m\u001b[38;5;241;43m.\u001b[39;49m\u001b[43mvalues\u001b[49m\n",
      "File \u001b[1;32mC:\\Programs\\Anaconda\\envs\\hyrax_daymet\\lib\\site-packages\\xarray\\core\\variable.py:512\u001b[0m, in \u001b[0;36mVariable.values\u001b[1;34m(self)\u001b[0m\n\u001b[0;32m    509\u001b[0m \u001b[38;5;129m@property\u001b[39m\n\u001b[0;32m    510\u001b[0m \u001b[38;5;28;01mdef\u001b[39;00m \u001b[38;5;21mvalues\u001b[39m(\u001b[38;5;28mself\u001b[39m):\n\u001b[0;32m    511\u001b[0m     \u001b[38;5;124;03m\"\"\"The variable's data as a numpy.ndarray\"\"\"\u001b[39;00m\n\u001b[1;32m--> 512\u001b[0m     \u001b[38;5;28;01mreturn\u001b[39;00m \u001b[43m_as_array_or_item\u001b[49m\u001b[43m(\u001b[49m\u001b[38;5;28;43mself\u001b[39;49m\u001b[38;5;241;43m.\u001b[39;49m\u001b[43m_data\u001b[49m\u001b[43m)\u001b[49m\n",
      "File \u001b[1;32mC:\\Programs\\Anaconda\\envs\\hyrax_daymet\\lib\\site-packages\\xarray\\core\\variable.py:252\u001b[0m, in \u001b[0;36m_as_array_or_item\u001b[1;34m(data)\u001b[0m\n\u001b[0;32m    238\u001b[0m \u001b[38;5;28;01mdef\u001b[39;00m \u001b[38;5;21m_as_array_or_item\u001b[39m(data):\n\u001b[0;32m    239\u001b[0m     \u001b[38;5;124;03m\"\"\"Return the given values as a numpy array, or as an individual item if\u001b[39;00m\n\u001b[0;32m    240\u001b[0m \u001b[38;5;124;03m    it's a 0d datetime64 or timedelta64 array.\u001b[39;00m\n\u001b[0;32m    241\u001b[0m \n\u001b[1;32m   (...)\u001b[0m\n\u001b[0;32m    250\u001b[0m \u001b[38;5;124;03m    TODO: remove this (replace with np.asarray) once these issues are fixed\u001b[39;00m\n\u001b[0;32m    251\u001b[0m \u001b[38;5;124;03m    \"\"\"\u001b[39;00m\n\u001b[1;32m--> 252\u001b[0m     data \u001b[38;5;241m=\u001b[39m \u001b[43mnp\u001b[49m\u001b[38;5;241;43m.\u001b[39;49m\u001b[43masarray\u001b[49m\u001b[43m(\u001b[49m\u001b[43mdata\u001b[49m\u001b[43m)\u001b[49m\n\u001b[0;32m    253\u001b[0m     \u001b[38;5;28;01mif\u001b[39;00m data\u001b[38;5;241m.\u001b[39mndim \u001b[38;5;241m==\u001b[39m \u001b[38;5;241m0\u001b[39m:\n\u001b[0;32m    254\u001b[0m         \u001b[38;5;28;01mif\u001b[39;00m data\u001b[38;5;241m.\u001b[39mdtype\u001b[38;5;241m.\u001b[39mkind \u001b[38;5;241m==\u001b[39m \u001b[38;5;124m\"\u001b[39m\u001b[38;5;124mM\u001b[39m\u001b[38;5;124m\"\u001b[39m:\n",
      "File \u001b[1;32mC:\\Programs\\Anaconda\\envs\\hyrax_daymet\\lib\\site-packages\\xarray\\core\\indexing.py:552\u001b[0m, in \u001b[0;36mMemoryCachedArray.__array__\u001b[1;34m(self, dtype)\u001b[0m\n\u001b[0;32m    551\u001b[0m \u001b[38;5;28;01mdef\u001b[39;00m \u001b[38;5;21m__array__\u001b[39m(\u001b[38;5;28mself\u001b[39m, dtype\u001b[38;5;241m=\u001b[39m\u001b[38;5;28;01mNone\u001b[39;00m):\n\u001b[1;32m--> 552\u001b[0m     \u001b[38;5;28;43mself\u001b[39;49m\u001b[38;5;241;43m.\u001b[39;49m\u001b[43m_ensure_cached\u001b[49m\u001b[43m(\u001b[49m\u001b[43m)\u001b[49m\n\u001b[0;32m    553\u001b[0m     \u001b[38;5;28;01mreturn\u001b[39;00m np\u001b[38;5;241m.\u001b[39masarray(\u001b[38;5;28mself\u001b[39m\u001b[38;5;241m.\u001b[39marray, dtype\u001b[38;5;241m=\u001b[39mdtype)\n",
      "File \u001b[1;32mC:\\Programs\\Anaconda\\envs\\hyrax_daymet\\lib\\site-packages\\xarray\\core\\indexing.py:549\u001b[0m, in \u001b[0;36mMemoryCachedArray._ensure_cached\u001b[1;34m(self)\u001b[0m\n\u001b[0;32m    547\u001b[0m \u001b[38;5;28;01mdef\u001b[39;00m \u001b[38;5;21m_ensure_cached\u001b[39m(\u001b[38;5;28mself\u001b[39m):\n\u001b[0;32m    548\u001b[0m     \u001b[38;5;28;01mif\u001b[39;00m \u001b[38;5;129;01mnot\u001b[39;00m \u001b[38;5;28misinstance\u001b[39m(\u001b[38;5;28mself\u001b[39m\u001b[38;5;241m.\u001b[39marray, NumpyIndexingAdapter):\n\u001b[1;32m--> 549\u001b[0m         \u001b[38;5;28mself\u001b[39m\u001b[38;5;241m.\u001b[39marray \u001b[38;5;241m=\u001b[39m NumpyIndexingAdapter(\u001b[43mnp\u001b[49m\u001b[38;5;241;43m.\u001b[39;49m\u001b[43masarray\u001b[49m\u001b[43m(\u001b[49m\u001b[38;5;28;43mself\u001b[39;49m\u001b[38;5;241;43m.\u001b[39;49m\u001b[43marray\u001b[49m\u001b[43m)\u001b[49m)\n",
      "File \u001b[1;32mC:\\Programs\\Anaconda\\envs\\hyrax_daymet\\lib\\site-packages\\xarray\\core\\indexing.py:522\u001b[0m, in \u001b[0;36mCopyOnWriteArray.__array__\u001b[1;34m(self, dtype)\u001b[0m\n\u001b[0;32m    521\u001b[0m \u001b[38;5;28;01mdef\u001b[39;00m \u001b[38;5;21m__array__\u001b[39m(\u001b[38;5;28mself\u001b[39m, dtype\u001b[38;5;241m=\u001b[39m\u001b[38;5;28;01mNone\u001b[39;00m):\n\u001b[1;32m--> 522\u001b[0m     \u001b[38;5;28;01mreturn\u001b[39;00m \u001b[43mnp\u001b[49m\u001b[38;5;241;43m.\u001b[39;49m\u001b[43masarray\u001b[49m\u001b[43m(\u001b[49m\u001b[38;5;28;43mself\u001b[39;49m\u001b[38;5;241;43m.\u001b[39;49m\u001b[43marray\u001b[49m\u001b[43m,\u001b[49m\u001b[43m \u001b[49m\u001b[43mdtype\u001b[49m\u001b[38;5;241;43m=\u001b[39;49m\u001b[43mdtype\u001b[49m\u001b[43m)\u001b[49m\n",
      "File \u001b[1;32mC:\\Programs\\Anaconda\\envs\\hyrax_daymet\\lib\\site-packages\\xarray\\core\\indexing.py:423\u001b[0m, in \u001b[0;36mLazilyIndexedArray.__array__\u001b[1;34m(self, dtype)\u001b[0m\n\u001b[0;32m    421\u001b[0m \u001b[38;5;28;01mdef\u001b[39;00m \u001b[38;5;21m__array__\u001b[39m(\u001b[38;5;28mself\u001b[39m, dtype\u001b[38;5;241m=\u001b[39m\u001b[38;5;28;01mNone\u001b[39;00m):\n\u001b[0;32m    422\u001b[0m     array \u001b[38;5;241m=\u001b[39m as_indexable(\u001b[38;5;28mself\u001b[39m\u001b[38;5;241m.\u001b[39marray)\n\u001b[1;32m--> 423\u001b[0m     \u001b[38;5;28;01mreturn\u001b[39;00m np\u001b[38;5;241m.\u001b[39masarray(\u001b[43marray\u001b[49m\u001b[43m[\u001b[49m\u001b[38;5;28;43mself\u001b[39;49m\u001b[38;5;241;43m.\u001b[39;49m\u001b[43mkey\u001b[49m\u001b[43m]\u001b[49m, dtype\u001b[38;5;241m=\u001b[39m\u001b[38;5;28;01mNone\u001b[39;00m)\n",
      "File \u001b[1;32mC:\\Programs\\Anaconda\\envs\\hyrax_daymet\\lib\\site-packages\\xarray\\conventions.py:62\u001b[0m, in \u001b[0;36mNativeEndiannessArray.__getitem__\u001b[1;34m(self, key)\u001b[0m\n\u001b[0;32m     61\u001b[0m \u001b[38;5;28;01mdef\u001b[39;00m \u001b[38;5;21m__getitem__\u001b[39m(\u001b[38;5;28mself\u001b[39m, key):\n\u001b[1;32m---> 62\u001b[0m     \u001b[38;5;28;01mreturn\u001b[39;00m \u001b[43mnp\u001b[49m\u001b[38;5;241;43m.\u001b[39;49m\u001b[43masarray\u001b[49m\u001b[43m(\u001b[49m\u001b[38;5;28;43mself\u001b[39;49m\u001b[38;5;241;43m.\u001b[39;49m\u001b[43marray\u001b[49m\u001b[43m[\u001b[49m\u001b[43mkey\u001b[49m\u001b[43m]\u001b[49m\u001b[43m,\u001b[49m\u001b[43m \u001b[49m\u001b[43mdtype\u001b[49m\u001b[38;5;241;43m=\u001b[39;49m\u001b[38;5;28;43mself\u001b[39;49m\u001b[38;5;241;43m.\u001b[39;49m\u001b[43mdtype\u001b[49m\u001b[43m)\u001b[49m\n",
      "File \u001b[1;32mC:\\Programs\\Anaconda\\envs\\hyrax_daymet\\lib\\site-packages\\xarray\\coding\\variables.py:70\u001b[0m, in \u001b[0;36m_ElementwiseFunctionArray.__array__\u001b[1;34m(self, dtype)\u001b[0m\n\u001b[0;32m     69\u001b[0m \u001b[38;5;28;01mdef\u001b[39;00m \u001b[38;5;21m__array__\u001b[39m(\u001b[38;5;28mself\u001b[39m, dtype\u001b[38;5;241m=\u001b[39m\u001b[38;5;28;01mNone\u001b[39;00m):\n\u001b[1;32m---> 70\u001b[0m     \u001b[38;5;28;01mreturn\u001b[39;00m \u001b[38;5;28;43mself\u001b[39;49m\u001b[38;5;241;43m.\u001b[39;49m\u001b[43mfunc\u001b[49m\u001b[43m(\u001b[49m\u001b[38;5;28;43mself\u001b[39;49m\u001b[38;5;241;43m.\u001b[39;49m\u001b[43marray\u001b[49m\u001b[43m)\u001b[49m\n",
      "File \u001b[1;32mC:\\Programs\\Anaconda\\envs\\hyrax_daymet\\lib\\site-packages\\xarray\\coding\\variables.py:137\u001b[0m, in \u001b[0;36m_apply_mask\u001b[1;34m(data, encoded_fill_values, decoded_fill_value, dtype)\u001b[0m\n\u001b[0;32m    133\u001b[0m \u001b[38;5;28;01mdef\u001b[39;00m \u001b[38;5;21m_apply_mask\u001b[39m(\n\u001b[0;32m    134\u001b[0m     data: np\u001b[38;5;241m.\u001b[39mndarray, encoded_fill_values: \u001b[38;5;28mlist\u001b[39m, decoded_fill_value: Any, dtype: Any\n\u001b[0;32m    135\u001b[0m ) \u001b[38;5;241m-\u001b[39m\u001b[38;5;241m>\u001b[39m np\u001b[38;5;241m.\u001b[39mndarray:\n\u001b[0;32m    136\u001b[0m     \u001b[38;5;124;03m\"\"\"Mask all matching values in a NumPy arrays.\"\"\"\u001b[39;00m\n\u001b[1;32m--> 137\u001b[0m     data \u001b[38;5;241m=\u001b[39m \u001b[43mnp\u001b[49m\u001b[38;5;241;43m.\u001b[39;49m\u001b[43masarray\u001b[49m\u001b[43m(\u001b[49m\u001b[43mdata\u001b[49m\u001b[43m,\u001b[49m\u001b[43m \u001b[49m\u001b[43mdtype\u001b[49m\u001b[38;5;241;43m=\u001b[39;49m\u001b[43mdtype\u001b[49m\u001b[43m)\u001b[49m\n\u001b[0;32m    138\u001b[0m     condition \u001b[38;5;241m=\u001b[39m \u001b[38;5;28;01mFalse\u001b[39;00m\n\u001b[0;32m    139\u001b[0m     \u001b[38;5;28;01mfor\u001b[39;00m fv \u001b[38;5;129;01min\u001b[39;00m encoded_fill_values:\n",
      "File \u001b[1;32mC:\\Programs\\Anaconda\\envs\\hyrax_daymet\\lib\\site-packages\\xarray\\core\\indexing.py:423\u001b[0m, in \u001b[0;36mLazilyIndexedArray.__array__\u001b[1;34m(self, dtype)\u001b[0m\n\u001b[0;32m    421\u001b[0m \u001b[38;5;28;01mdef\u001b[39;00m \u001b[38;5;21m__array__\u001b[39m(\u001b[38;5;28mself\u001b[39m, dtype\u001b[38;5;241m=\u001b[39m\u001b[38;5;28;01mNone\u001b[39;00m):\n\u001b[0;32m    422\u001b[0m     array \u001b[38;5;241m=\u001b[39m as_indexable(\u001b[38;5;28mself\u001b[39m\u001b[38;5;241m.\u001b[39marray)\n\u001b[1;32m--> 423\u001b[0m     \u001b[38;5;28;01mreturn\u001b[39;00m np\u001b[38;5;241m.\u001b[39masarray(\u001b[43marray\u001b[49m\u001b[43m[\u001b[49m\u001b[38;5;28;43mself\u001b[39;49m\u001b[38;5;241;43m.\u001b[39;49m\u001b[43mkey\u001b[49m\u001b[43m]\u001b[49m, dtype\u001b[38;5;241m=\u001b[39m\u001b[38;5;28;01mNone\u001b[39;00m)\n",
      "File \u001b[1;32mC:\\Programs\\Anaconda\\envs\\hyrax_daymet\\lib\\site-packages\\xarray\\backends\\pydap_.py:37\u001b[0m, in \u001b[0;36mPydapArrayWrapper.__getitem__\u001b[1;34m(self, key)\u001b[0m\n\u001b[0;32m     36\u001b[0m \u001b[38;5;28;01mdef\u001b[39;00m \u001b[38;5;21m__getitem__\u001b[39m(\u001b[38;5;28mself\u001b[39m, key):\n\u001b[1;32m---> 37\u001b[0m     \u001b[38;5;28;01mreturn\u001b[39;00m \u001b[43mindexing\u001b[49m\u001b[38;5;241;43m.\u001b[39;49m\u001b[43mexplicit_indexing_adapter\u001b[49m\u001b[43m(\u001b[49m\n\u001b[0;32m     38\u001b[0m \u001b[43m        \u001b[49m\u001b[43mkey\u001b[49m\u001b[43m,\u001b[49m\u001b[43m \u001b[49m\u001b[38;5;28;43mself\u001b[39;49m\u001b[38;5;241;43m.\u001b[39;49m\u001b[43mshape\u001b[49m\u001b[43m,\u001b[49m\u001b[43m \u001b[49m\u001b[43mindexing\u001b[49m\u001b[38;5;241;43m.\u001b[39;49m\u001b[43mIndexingSupport\u001b[49m\u001b[38;5;241;43m.\u001b[39;49m\u001b[43mBASIC\u001b[49m\u001b[43m,\u001b[49m\u001b[43m \u001b[49m\u001b[38;5;28;43mself\u001b[39;49m\u001b[38;5;241;43m.\u001b[39;49m\u001b[43m_getitem\u001b[49m\n\u001b[0;32m     39\u001b[0m \u001b[43m    \u001b[49m\u001b[43m)\u001b[49m\n",
      "File \u001b[1;32mC:\\Programs\\Anaconda\\envs\\hyrax_daymet\\lib\\site-packages\\xarray\\core\\indexing.py:712\u001b[0m, in \u001b[0;36mexplicit_indexing_adapter\u001b[1;34m(key, shape, indexing_support, raw_indexing_method)\u001b[0m\n\u001b[0;32m    690\u001b[0m \u001b[38;5;124;03m\"\"\"Support explicit indexing by delegating to a raw indexing method.\u001b[39;00m\n\u001b[0;32m    691\u001b[0m \n\u001b[0;32m    692\u001b[0m \u001b[38;5;124;03mOuter and/or vectorized indexers are supported by indexing a second time\u001b[39;00m\n\u001b[1;32m   (...)\u001b[0m\n\u001b[0;32m    709\u001b[0m \u001b[38;5;124;03mIndexing result, in the form of a duck numpy-array.\u001b[39;00m\n\u001b[0;32m    710\u001b[0m \u001b[38;5;124;03m\"\"\"\u001b[39;00m\n\u001b[0;32m    711\u001b[0m raw_key, numpy_indices \u001b[38;5;241m=\u001b[39m decompose_indexer(key, shape, indexing_support)\n\u001b[1;32m--> 712\u001b[0m result \u001b[38;5;241m=\u001b[39m \u001b[43mraw_indexing_method\u001b[49m\u001b[43m(\u001b[49m\u001b[43mraw_key\u001b[49m\u001b[38;5;241;43m.\u001b[39;49m\u001b[43mtuple\u001b[49m\u001b[43m)\u001b[49m\n\u001b[0;32m    713\u001b[0m \u001b[38;5;28;01mif\u001b[39;00m numpy_indices\u001b[38;5;241m.\u001b[39mtuple:\n\u001b[0;32m    714\u001b[0m     \u001b[38;5;66;03m# index the loaded np.ndarray\u001b[39;00m\n\u001b[0;32m    715\u001b[0m     result \u001b[38;5;241m=\u001b[39m NumpyIndexingAdapter(np\u001b[38;5;241m.\u001b[39masarray(result))[numpy_indices]\n",
      "File \u001b[1;32mC:\\Programs\\Anaconda\\envs\\hyrax_daymet\\lib\\site-packages\\xarray\\backends\\pydap_.py:45\u001b[0m, in \u001b[0;36mPydapArrayWrapper._getitem\u001b[1;34m(self, key)\u001b[0m\n\u001b[0;32m     41\u001b[0m \u001b[38;5;28;01mdef\u001b[39;00m \u001b[38;5;21m_getitem\u001b[39m(\u001b[38;5;28mself\u001b[39m, key):\n\u001b[0;32m     42\u001b[0m     \u001b[38;5;66;03m# pull the data from the array attribute if possible, to avoid\u001b[39;00m\n\u001b[0;32m     43\u001b[0m     \u001b[38;5;66;03m# downloading coordinate data twice\u001b[39;00m\n\u001b[0;32m     44\u001b[0m     array \u001b[38;5;241m=\u001b[39m \u001b[38;5;28mgetattr\u001b[39m(\u001b[38;5;28mself\u001b[39m\u001b[38;5;241m.\u001b[39marray, \u001b[38;5;124m\"\u001b[39m\u001b[38;5;124marray\u001b[39m\u001b[38;5;124m\"\u001b[39m, \u001b[38;5;28mself\u001b[39m\u001b[38;5;241m.\u001b[39marray)\n\u001b[1;32m---> 45\u001b[0m     result \u001b[38;5;241m=\u001b[39m \u001b[43mrobust_getitem\u001b[49m\u001b[43m(\u001b[49m\u001b[43marray\u001b[49m\u001b[43m,\u001b[49m\u001b[43m \u001b[49m\u001b[43mkey\u001b[49m\u001b[43m,\u001b[49m\u001b[43m \u001b[49m\u001b[43mcatch\u001b[49m\u001b[38;5;241;43m=\u001b[39;49m\u001b[38;5;167;43;01mValueError\u001b[39;49;00m\u001b[43m)\u001b[49m\n\u001b[0;32m     46\u001b[0m     \u001b[38;5;66;03m# in some cases, pydap doesn't squeeze axes automatically like numpy\u001b[39;00m\n\u001b[0;32m     47\u001b[0m     axis \u001b[38;5;241m=\u001b[39m \u001b[38;5;28mtuple\u001b[39m(n \u001b[38;5;28;01mfor\u001b[39;00m n, k \u001b[38;5;129;01min\u001b[39;00m \u001b[38;5;28menumerate\u001b[39m(key) \u001b[38;5;28;01mif\u001b[39;00m \u001b[38;5;28misinstance\u001b[39m(k, integer_types))\n",
      "File \u001b[1;32mC:\\Programs\\Anaconda\\envs\\hyrax_daymet\\lib\\site-packages\\xarray\\backends\\common.py:64\u001b[0m, in \u001b[0;36mrobust_getitem\u001b[1;34m(array, key, catch, max_retries, initial_delay)\u001b[0m\n\u001b[0;32m     62\u001b[0m \u001b[38;5;28;01mfor\u001b[39;00m n \u001b[38;5;129;01min\u001b[39;00m \u001b[38;5;28mrange\u001b[39m(max_retries \u001b[38;5;241m+\u001b[39m \u001b[38;5;241m1\u001b[39m):\n\u001b[0;32m     63\u001b[0m     \u001b[38;5;28;01mtry\u001b[39;00m:\n\u001b[1;32m---> 64\u001b[0m         \u001b[38;5;28;01mreturn\u001b[39;00m \u001b[43marray\u001b[49m\u001b[43m[\u001b[49m\u001b[43mkey\u001b[49m\u001b[43m]\u001b[49m\n\u001b[0;32m     65\u001b[0m     \u001b[38;5;28;01mexcept\u001b[39;00m catch:\n\u001b[0;32m     66\u001b[0m         \u001b[38;5;28;01mif\u001b[39;00m n \u001b[38;5;241m==\u001b[39m max_retries:\n",
      "File \u001b[1;32mC:\\Programs\\Anaconda\\envs\\hyrax_daymet\\lib\\site-packages\\pydap\\model.py:323\u001b[0m, in \u001b[0;36mBaseType.__getitem__\u001b[1;34m(self, index)\u001b[0m\n\u001b[0;32m    321\u001b[0m \u001b[38;5;28;01mdef\u001b[39;00m \u001b[38;5;21m__getitem__\u001b[39m(\u001b[38;5;28mself\u001b[39m, index):\n\u001b[0;32m    322\u001b[0m     out \u001b[38;5;241m=\u001b[39m copy\u001b[38;5;241m.\u001b[39mcopy(\u001b[38;5;28mself\u001b[39m)\n\u001b[1;32m--> 323\u001b[0m     out\u001b[38;5;241m.\u001b[39mdata \u001b[38;5;241m=\u001b[39m \u001b[38;5;28;43mself\u001b[39;49m\u001b[38;5;241;43m.\u001b[39;49m\u001b[43m_get_data_index\u001b[49m\u001b[43m(\u001b[49m\u001b[43mindex\u001b[49m\u001b[43m)\u001b[49m\n\u001b[0;32m    324\u001b[0m     \u001b[38;5;28;01mreturn\u001b[39;00m out\n",
      "File \u001b[1;32mC:\\Programs\\Anaconda\\envs\\hyrax_daymet\\lib\\site-packages\\pydap\\model.py:353\u001b[0m, in \u001b[0;36mBaseType._get_data_index\u001b[1;34m(self, index)\u001b[0m\n\u001b[0;32m    351\u001b[0m     \u001b[38;5;28;01mreturn\u001b[39;00m np\u001b[38;5;241m.\u001b[39mvectorize(decode_np_strings)(\u001b[38;5;28mself\u001b[39m\u001b[38;5;241m.\u001b[39m_data[index])\n\u001b[0;32m    352\u001b[0m \u001b[38;5;28;01melse\u001b[39;00m:\n\u001b[1;32m--> 353\u001b[0m     \u001b[38;5;28;01mreturn\u001b[39;00m \u001b[38;5;28;43mself\u001b[39;49m\u001b[38;5;241;43m.\u001b[39;49m\u001b[43m_data\u001b[49m\u001b[43m[\u001b[49m\u001b[43mindex\u001b[49m\u001b[43m]\u001b[49m\n",
      "File \u001b[1;32mC:\\Programs\\Anaconda\\envs\\hyrax_daymet\\lib\\site-packages\\pydap\\handlers\\dap.py:175\u001b[0m, in \u001b[0;36mBaseProxy.__getitem__\u001b[1;34m(self, index)\u001b[0m\n\u001b[0;32m    173\u001b[0m \u001b[38;5;66;03m# Parse received dataset:\u001b[39;00m\n\u001b[0;32m    174\u001b[0m dataset \u001b[38;5;241m=\u001b[39m build_dataset(dds)\n\u001b[1;32m--> 175\u001b[0m dataset\u001b[38;5;241m.\u001b[39mdata \u001b[38;5;241m=\u001b[39m \u001b[43munpack_data\u001b[49m\u001b[43m(\u001b[49m\u001b[43mBytesReader\u001b[49m\u001b[43m(\u001b[49m\u001b[43mdata\u001b[49m\u001b[43m)\u001b[49m\u001b[43m,\u001b[49m\u001b[43m \u001b[49m\u001b[43mdataset\u001b[49m\u001b[43m)\u001b[49m\n\u001b[0;32m    176\u001b[0m \u001b[38;5;28;01mreturn\u001b[39;00m dataset[\u001b[38;5;28mself\u001b[39m\u001b[38;5;241m.\u001b[39mid]\u001b[38;5;241m.\u001b[39mdata\n",
      "File \u001b[1;32mC:\\Programs\\Anaconda\\envs\\hyrax_daymet\\lib\\site-packages\\pydap\\handlers\\dap.py:452\u001b[0m, in \u001b[0;36munpack_data\u001b[1;34m(xdr_stream, dataset)\u001b[0m\n\u001b[0;32m    450\u001b[0m \u001b[38;5;28;01mdef\u001b[39;00m \u001b[38;5;21munpack_data\u001b[39m(xdr_stream, dataset):\n\u001b[0;32m    451\u001b[0m     \u001b[38;5;124;03m\"\"\"Unpack a string of encoded data, returning data as lists.\"\"\"\u001b[39;00m\n\u001b[1;32m--> 452\u001b[0m     \u001b[38;5;28;01mreturn\u001b[39;00m \u001b[43munpack_children\u001b[49m\u001b[43m(\u001b[49m\u001b[43mxdr_stream\u001b[49m\u001b[43m,\u001b[49m\u001b[43m \u001b[49m\u001b[43mdataset\u001b[49m\u001b[43m)\u001b[49m\n",
      "File \u001b[1;32mC:\\Programs\\Anaconda\\envs\\hyrax_daymet\\lib\\site-packages\\pydap\\handlers\\dap.py:387\u001b[0m, in \u001b[0;36munpack_children\u001b[1;34m(stream, template)\u001b[0m\n\u001b[0;32m    383\u001b[0m         out\u001b[38;5;241m.\u001b[39mappend(\u001b[38;5;28mtuple\u001b[39m(unpack_children(stream, col)))\n\u001b[0;32m    385\u001b[0m     \u001b[38;5;66;03m# unpack arrays\u001b[39;00m\n\u001b[0;32m    386\u001b[0m     \u001b[38;5;28;01melse\u001b[39;00m:\n\u001b[1;32m--> 387\u001b[0m         out\u001b[38;5;241m.\u001b[39mextend(\u001b[43mconvert_stream_to_list\u001b[49m\u001b[43m(\u001b[49m\u001b[43mstream\u001b[49m\u001b[43m,\u001b[49m\u001b[43m \u001b[49m\u001b[43mcol\u001b[49m\u001b[38;5;241;43m.\u001b[39;49m\u001b[43mdtype\u001b[49m\u001b[43m,\u001b[49m\u001b[43m \u001b[49m\u001b[43mcol\u001b[49m\u001b[38;5;241;43m.\u001b[39;49m\u001b[43mshape\u001b[49m\u001b[43m,\u001b[49m\n\u001b[0;32m    388\u001b[0m \u001b[43m                                          \u001b[49m\u001b[43mcol\u001b[49m\u001b[38;5;241;43m.\u001b[39;49m\u001b[43mid\u001b[49m\u001b[43m)\u001b[49m)\n\u001b[0;32m    389\u001b[0m \u001b[38;5;28;01mreturn\u001b[39;00m out\n",
      "File \u001b[1;32mC:\\Programs\\Anaconda\\envs\\hyrax_daymet\\lib\\site-packages\\pydap\\handlers\\dap.py:413\u001b[0m, in \u001b[0;36mconvert_stream_to_list\u001b[1;34m(stream, parser_dtype, shape, id)\u001b[0m\n\u001b[0;32m    410\u001b[0m stream\u001b[38;5;241m.\u001b[39mread(\u001b[38;5;241m4\u001b[39m)  \u001b[38;5;66;03m# read additional length\u001b[39;00m\n\u001b[0;32m    411\u001b[0m \u001b[38;5;28;01mtry\u001b[39;00m:\n\u001b[0;32m    412\u001b[0m     out\u001b[38;5;241m.\u001b[39mappend(\n\u001b[1;32m--> 413\u001b[0m         \u001b[43mnp\u001b[49m\u001b[38;5;241;43m.\u001b[39;49m\u001b[43mfrombuffer\u001b[49m\u001b[43m(\u001b[49m\n\u001b[0;32m    414\u001b[0m \u001b[43m            \u001b[49m\u001b[43mstream\u001b[49m\u001b[38;5;241;43m.\u001b[39;49m\u001b[43mread\u001b[49m\u001b[43m(\u001b[49m\u001b[43mcount\u001b[49m\u001b[43m)\u001b[49m\u001b[43m,\u001b[49m\u001b[43m \u001b[49m\u001b[43mresponse_dtype\u001b[49m\u001b[43m)\u001b[49m\n\u001b[0;32m    415\u001b[0m         \u001b[38;5;241m.\u001b[39mastype(parser_dtype)\u001b[38;5;241m.\u001b[39mreshape(shape))\n\u001b[0;32m    416\u001b[0m \u001b[38;5;28;01mexcept\u001b[39;00m \u001b[38;5;167;01mValueError\u001b[39;00m \u001b[38;5;28;01mas\u001b[39;00m e:\n\u001b[0;32m    417\u001b[0m     \u001b[38;5;28;01mif\u001b[39;00m \u001b[38;5;28mstr\u001b[39m(e) \u001b[38;5;241m==\u001b[39m \u001b[38;5;124m'\u001b[39m\u001b[38;5;124mtotal size of new array must be unchanged\u001b[39m\u001b[38;5;124m'\u001b[39m:\n\u001b[0;32m    418\u001b[0m         \u001b[38;5;66;03m# server-side failure.\u001b[39;00m\n\u001b[0;32m    419\u001b[0m         \u001b[38;5;66;03m# it is expected that the user should be mindful of this:\u001b[39;00m\n",
      "\u001b[1;31mValueError\u001b[0m: buffer size must be a multiple of element size"
     ]
    }
   ],
   "source": [
    "# THIS IS ACCESSING DAYMET DAILY DATA in NGAP HYDRAX via OPeNDAP.  \n",
    "# for loop based on response granules: granule_names  \n",
    "\n",
    "from pydap.client import open_url\n",
    "from pydap.cas.urs import setup_session\n",
    "import xarray as xr\n",
    "import time\n",
    "\n",
    "username = \"YourEarthdataLogin_UserName\" # Earthdata URS Login (only needed for NGAP Hyrax) Get account here https://urs.earthdata.nasa.gov/\n",
    "password= \"YourEarthdataLogin_pw\"\n",
    "\n",
    "hyrax_url = 'https://opendap.earthdata.nasa.gov/collections/C2532426483-ORNL_CLOUD/granules/'\n",
    "\n",
    "session = setup_session(username, password, check_url=hyrax_url)  \n",
    "\n",
    "before = time.time()\n",
    "cnt = 0 \n",
    "for g_name in granule_names:\n",
    "    print('granule_name ---->', g_name)\n",
    "    granule_dap = hyrax_url + g_name \n",
    "    print(granule_dap)\n",
    "    \n",
    "    hyrax_ds = open_url(granule_dap, session=session)\n",
    "    print('hyrax_ds ----->', hyrax_ds)\n",
    "    ds = xr.open_dataset(xr.backends.PydapDataStore(hyrax_ds), decode_coords=\"all\")\n",
    "    print(ds)\n",
    "    \n",
    "    #tmax_sel=ds['tmax'].sel(x=slice(lccbounds.minx[0],lccbounds.maxx[0]), y=slice(lccbounds.maxy[0],lccbounds.miny[0]))\n",
    "    tmax_sel=ds['tmax'].sel(x=slice(1386957,1470587), y=slice(-565105,-612937)) #GSMNP boundary\n",
    "    #print(tmax_sel)\n",
    "    if cnt==0:\n",
    "        tmax_h = tmax_sel\n",
    "        print('tmax_h ====')\n",
    "        print(tmax_h)\n",
    "        #tmax_h.to_netcdf('test.nc')\n",
    "    else:\n",
    "        #print('elsey')\n",
    "        tmax_h = xr.concat([tmax_h, tmax_sel], dim=\"time\")\n",
    "    \n",
    "    cnt += 1\n",
    "\n",
    "print('concat tmax_h ----->', tmax_h)    \n",
    "# save to netcdf\n",
    "#tmax_h.to_netcdf(var + '_cali_hyrax_subset.nc')\n",
    "print(\"Processing Time: \", time.time() - before, 'seconds')"
   ]
  },
  {
   "cell_type": "code",
   "execution_count": null,
   "id": "f5750a98",
   "metadata": {},
   "outputs": [],
   "source": [
    "# SKIP THIS - TESTING WITH ONE SLICE\n",
    "# THIS IS ACCESSING DAYMET DAILY DATA in NGAP HYDRAX via OPeNDAP.  \n",
    "# for loop based on response granules eg.) Daymet_Daily_V4.daymet_v4_daily_na_tmax_2010.nc, Daymet_Daily_V4.daymet_v4_daily_na_tmax_2011.nc \n",
    "\n",
    "from pydap.client import open_url\n",
    "from pydap.cas.urs import setup_session\n",
    "import xarray as xr\n",
    "import time\n",
    "\n",
    "username = \"mthornton\" # Earthdata URS Login (only needed for NGAP Hyrax) Get account here https://urs.earthdata.nasa.gov/\n",
    "password= \"Earthdata4Michele\"\n",
    "\n",
    "hyrax_url = 'https://opendap.earthdata.nasa.gov/collections/C2532426483-ORNL_CLOUD/granules/'\n",
    "\n",
    "session = setup_session(username, password, check_url=hyrax_url)  \n",
    "\n",
    "before = time.time()\n",
    "cnt = 0 \n",
    "for g_name in granule_names:\n",
    "    print('granule_name ---->', g_name)\n",
    "    #granule_dap = thredds_url + g_name.replace('Daymet_Daily_V4R1.','') #The name suffix is needed for cloud file name, not here for TDS\n",
    "    granule_dap = hyrax_url + g_name \n",
    "    print(granule_dap)\n",
    "    \n",
    "    hyrax_ds = open_url(granule_dap, session=session)\n",
    "    ds = xr.open_dataset(xr.backends.PydapDataStore(hyrax_ds), decode_coords=\"all\")\n",
    "    \n",
    "    subset=ds['tmax'].sel(x=slice(lccbounds.minx[0],lccbounds.maxx[0]), y=slice(lccbounds.maxy[0],lccbounds.miny[0]))\n",
    "    print(subset)\n",
    "    #dummy=ds['tmax'].sel(x=slice(1386957,1470587), y=slice(-565105,-612937))\n",
    "    subset.to_netcdf(g_name.replace('Daymet_Daily_V4R1.','CAsubset_'))\n",
    "    #subset.to_netcdf(CA_test)\n",
    "    \n",
    "    #if cnt==0:\n",
    "    #    tmax_h = dummy\n",
    "    #else:\n",
    "    #    tmax_h = xr.concat([tmax_h, dummy], dim=\"time\")\n",
    "    \n",
    "    #cnt += 1\n",
    "\n",
    "# save to netcdf\n",
    "#tmax_h.to_netcdf(var + '_cali_hyrax_subset.nc')\n",
    "#granule_name ----> Daymet_Daily_V4.daymet_v4_daily_na_tmax_2010.nc\n",
    "#subset.to_netcdf(g_name.replace('Daymet_Daily_V4R1.','CAsubset_'))\n",
    "print(\"Processing Time: \", time.time() - before, 'seconds')"
   ]
  },
  {
   "cell_type": "code",
   "execution_count": null,
   "id": "32f18864",
   "metadata": {},
   "outputs": [],
   "source": [
    "# THIS IS ACCESSING DAYMET DAILY DATA in NGAP HYDRAX via OPeNDAP.  \n",
    "# for loop based on response granules eg.) Daymet_Daily_V4.daymet_v4_daily_na_tmax_2010.nc, Daymet_Daily_V4.daymet_v4_daily_na_tmax_2011.nc \n",
    "\n",
    "from pydap.client import open_url\n",
    "from pydap.cas.urs import setup_session\n",
    "import xarray as xr\n",
    "import time\n",
    "\n",
    "username = \"mthornton\" # Earthdata URS Login (only needed for NGAP Hyrax) Get account here https://urs.earthdata.nasa.gov/\n",
    "password= \"Earthdata4Michele\"\n",
    "\n",
    "hyrax_url = 'https://opendap.earthdata.nasa.gov/collections/C2532426483-ORNL_CLOUD/granules/'\n",
    "\n",
    "session = setup_session(username, password, check_url=hyrax_url)  \n",
    "\n",
    "before = time.time()\n",
    "cnt = 0 \n",
    "for g_name in granule_names:\n",
    "    print('granule_name ---->', g_name)\n",
    "    #granule_dap = thredds_url + g_name.replace('Daymet_Daily_V4R1.','') #The name suffix is needed for cloud file name\n",
    "    granule_dap = hyrax_url + g_name \n",
    "    print(granule_dap)\n",
    "    \n",
    "    hyrax_ds = open_url(granule_dap, session=session)\n",
    "    ds = xr.open_dataset(xr.backends.PydapDataStore(hyrax_ds), decode_coords=\"all\")\n",
    "    print(ds)\n",
    "    \n",
    "    dummy=ds['tmax'].sel(x=slice(lccbounds.minx[0],lccbounds.maxx[0]), y=slice(lccbounds.maxy[0],lccbounds.miny[0]))\n",
    "    print('dummy')\n",
    "    print(dummy)\n",
    "    #dummy=ds['prcp'].sel(x=slice(1386957,1470587), y=slice(-565105,-612937))\n",
    "    if cnt==0:\n",
    "        tmax_h = dummy\n",
    "        print('tmax_h ====')\n",
    "        print(tmax_h)\n",
    "        tmax_h.to_netcdf('test.nc')\n",
    "    else:\n",
    "        tmax_h = xr.concat([tmax_h, dummy], dim=\"time\")\n",
    "    \n",
    "    cnt += 1\n",
    "\n",
    "print(tmax_h)    \n",
    "# save to netcdf\n",
    "tmax_h.to_netcdf(var + '_cali_hyrax_subset.nc')\n",
    "print(\"Processing Time: \", time.time() - before, 'seconds')"
   ]
  },
  {
   "cell_type": "code",
   "execution_count": null,
   "id": "403eb22e",
   "metadata": {},
   "outputs": [],
   "source": [
    "tmax_h"
   ]
  },
  {
   "cell_type": "code",
   "execution_count": null,
   "id": "07ceadbd",
   "metadata": {},
   "outputs": [],
   "source": [
    "import matplotlib.pyplot as plt\n",
    "tmax = tmax_h.isel(time=200) # isel = xarray index selection (python index start from 0, so day 7) \n",
    "ax = plt.subplot()\n",
    "tmax.plot(ax=ax, robust=True)\n",
    "# Note xarray uses dimension and attribute information image - time:2010-01-07, projection is recognized"
   ]
  },
  {
   "cell_type": "markdown",
   "id": "bf62c55c",
   "metadata": {},
   "source": [
    "##### Let's take a look at the Daymet Temperature Subset for 2011"
   ]
  },
  {
   "cell_type": "code",
   "execution_count": null,
   "id": "b03f5085",
   "metadata": {},
   "outputs": [],
   "source": [
    "#subset"
   ]
  },
  {
   "cell_type": "code",
   "execution_count": null,
   "id": "ec758d47",
   "metadata": {},
   "outputs": [],
   "source": [
    "###SKIP THIS\n",
    "import matplotlib.pyplot as plt\n",
    "#tmax_ca = subset.isel(time=6) # isel = xarray index selection (python index start from 0, so day 7) \n",
    "tmax_ca = tmax_h.isel(time=6) # isel = xarray index selection (python index start from 0, so day 7) \n",
    "ax = plt.subplot()\n",
    "tmax_ca.plot(ax=ax, robust=True)\n",
    "# Note xarray uses dimension and attribute information image - time:2010-01-07, projection is recognized"
   ]
  },
  {
   "cell_type": "code",
   "execution_count": null,
   "id": "eb437875",
   "metadata": {},
   "outputs": [],
   "source": [
    "import matplotlib.pyplot as plt\n",
    "tmax_ca = tmax_h.isel(time=6)\n",
    "fig, ax = plt.subplots(figsize = (20,10))\n",
    "tmax_ca.plot(ax=ax, robust=True, cbar_kwargs={'label': 'degrees C'})\n",
    "ca_poly_lcc_1.plot(ax = ax, color = 'none', edgecolor = 'red')"
   ]
  },
  {
   "cell_type": "markdown",
   "id": "9e94e398",
   "metadata": {},
   "source": [
    "### Step 4. Clipping the subset area by polygon\n",
    "In this step, we demonstrate how to clip the subset to our polygon of interest.  We'll use Python's *rasterio* library.\n",
    "\n",
    "* **`rasterio`** provides many capabilities found in GDAL\n",
    "\n",
    "First, we'll map the subset precipitation data matrix to real world coordinates using the **'translation'** and **'scale'** methods of **'Affine'**."
   ]
  },
  {
   "cell_type": "code",
   "execution_count": null,
   "id": "34ec5a09",
   "metadata": {},
   "outputs": [],
   "source": [
    "from rasterio.features import Affine\n",
    "res = 1000 # daymet spatial resolution is 1km x 1km\n",
    "#transform = Affine.translation(min(subset.x).values - res / 2, min(subset.y).values - res / 2) * Affine.scale(res, res)\n",
    "transform = Affine.translation(min(tmax_h.x).values - res / 2, min(tmax_h.y).values - res / 2) * Affine.scale(res, res)\n",
    "transform"
   ]
  },
  {
   "cell_type": "code",
   "execution_count": null,
   "id": "e33d30e9",
   "metadata": {},
   "outputs": [],
   "source": [
    "from rasterio.features import geometry_mask\n",
    "#ca_mask = geometry_mask(ca_poly_lcc_1.geometry, out_shape=(len(subset.y), len(subset.x)), transform=transform, invert=True)\n",
    "ca_mask = geometry_mask(ca_poly_lcc_1.geometry, out_shape=(len(tmax_h.y), len(tmax_h.x)), transform=transform, invert=True)\n",
    "polymask = xr.DataArray(ca_mask , dims=(\"y\", \"x\"))\n",
    "polymask = polymask.sel(y=slice(None, None, -1)) \n",
    "tmax_masked = tmax_h.where(polymask == True)\n",
    "# write out to a netCDF file\n",
    "tmax_masked.to_netcdf(var + '_subset_poly.nc')"
   ]
  },
  {
   "cell_type": "markdown",
   "id": "f2b4df5a",
   "metadata": {},
   "source": [
    "Now let's plot the subset for the day"
   ]
  },
  {
   "cell_type": "code",
   "execution_count": null,
   "id": "5e0cf751",
   "metadata": {},
   "outputs": [],
   "source": [
    "##SKIP THIS\n",
    "import matplotlib.pyplot as plt\n",
    "tmax_1 = tmax_masked.isel(time=6)\n",
    "ax = plt.subplot()\n",
    "tmax_1.plot(ax=ax, cmap=\"turbo\", cbar_kwargs={'label': 'degrees C'})"
   ]
  },
  {
   "cell_type": "code",
   "execution_count": null,
   "id": "9725d5ed",
   "metadata": {},
   "outputs": [],
   "source": [
    "import matplotlib.pyplot as plt\n",
    "tmax_1 = tmax_masked.isel(time=6)\n",
    "fig, ax = plt.subplots(figsize = (20,10))\n",
    "tmax_1.plot(ax=ax, robust=True, cmap=\"turbo\", cbar_kwargs={'label': 'degrees C'})\n",
    "ca_poly_lcc_1.plot(ax = ax, color = 'none', edgecolor = 'red')"
   ]
  },
  {
   "cell_type": "markdown",
   "id": "b346cee5",
   "metadata": {},
   "source": [
    "#### Saving to a GeoTIFF\n",
    "The subset data can also be clipped by a polygon of interest and converted to GeoTiff using the rioxarray and shapely libraries.\n",
    "\n",
    "* **`rioxarray`** is an extention of xarray.  It can be used to clip, merge, and reproject rasters\n",
    "* **`shapely`** is a Python package for manipulation and analysis of planar geometery objects"
   ]
  },
  {
   "cell_type": "code",
   "execution_count": null,
   "id": "080269cf",
   "metadata": {},
   "outputs": [],
   "source": [
    "import rioxarray\n",
    "from shapely.geometry import mapping\n",
    "print(var)\n",
    "\n",
    "#prcp_sub = rioxarray.open_rasterio(var + '_subset_poly.nc', decode_coords=\"all\")\n",
    "#tmax_sub = rioxarray.open_rasterio(var + '_tdssubset.nc', decode_coords=\"all\", decode_times=False)\n",
    "\n",
    "#tmax_sub = rioxarray.open_rasterio(var + '_subset_poly.nc', decode_coords=\"all\", decode_times=False)\n",
    "tmax_sub = rioxarray.open_rasterio(var + '_cali_hyrax_subset.nc', masked=True)\n",
    "tmax_clip = tmax_sub.tmax.rio.clip(ca_poly_lcc_1.geometry.apply(mapping), ca_poly_lcc_1.crs, invert=False, from_disk=True)\n",
    "\n",
    "# saving one time step to geotiff\n",
    "tmax_clip_day6 = tmax_clip.isel(time=6)\n",
    "tmax_clip_day6.rio.to_raster(\"tmax_clip_day6.tif\")"
   ]
  },
  {
   "cell_type": "code",
   "execution_count": null,
   "id": "20d641ed",
   "metadata": {},
   "outputs": [],
   "source": []
  },
  {
   "cell_type": "code",
   "execution_count": null,
   "id": "69f56f18",
   "metadata": {},
   "outputs": [],
   "source": []
  }
 ],
 "metadata": {
  "kernelspec": {
   "display_name": "Python 3 (ipykernel)",
   "language": "python",
   "name": "python3"
  },
  "language_info": {
   "codemirror_mode": {
    "name": "ipython",
    "version": 3
   },
   "file_extension": ".py",
   "mimetype": "text/x-python",
   "name": "python",
   "nbconvert_exporter": "python",
   "pygments_lexer": "ipython3",
   "version": "3.9.12"
  }
 },
 "nbformat": 4,
 "nbformat_minor": 5
}
